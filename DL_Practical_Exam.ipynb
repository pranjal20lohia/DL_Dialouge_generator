{
  "nbformat": 4,
  "nbformat_minor": 0,
  "metadata": {
    "colab": {
      "provenance": [],
      "gpuType": "T4"
    },
    "kernelspec": {
      "name": "python3",
      "display_name": "Python 3"
    },
    "language_info": {
      "name": "python"
    },
    "accelerator": "GPU"
  },
  "cells": [
    {
      "cell_type": "markdown",
      "source": [
        "## **Without Attention**"
      ],
      "metadata": {
        "id": "7KLfN79lan6A"
      }
    },
    {
      "cell_type": "code",
      "source": [
        "import pandas as pd\n",
        "\n",
        "# Step 2: Load the uploaded CSV files into pandas DataFrames\n",
        "train_df = pd.read_csv('train.csv')\n",
        "valid_df = pd.read_csv('validation.csv')\n",
        "test_df = pd.read_csv('test.csv')\n",
        "\n",
        "# Step 3: Preview the data\n",
        "print(\"Train Sample:\")\n",
        "print(train_df.head())\n",
        "\n",
        "print(\"\\nValidation Sample:\")\n",
        "print(valid_df.head())\n",
        "\n",
        "print(\"\\nTest Sample:\")\n",
        "print(test_df.head())\n"
      ],
      "metadata": {
        "colab": {
          "base_uri": "https://localhost:8080/"
        },
        "id": "sWDRz9obKVe3",
        "outputId": "1edfd4fe-24d5-4426-a050-b873213b5594"
      },
      "execution_count": null,
      "outputs": [
        {
          "output_type": "stream",
          "name": "stdout",
          "text": [
            "Train Sample:\n",
            "                                              dialog                    act  \\\n",
            "0  ['Say , Jim , how about going for a few beers ...  [3 4 2 2 2 3 4 1 3 4]   \n",
            "1  ['Can you do push-ups ? '\\n \" Of course I can ...          [2 1 2 2 1 1]   \n",
            "2  ['Can you study with the radio on ? '\\n ' No ,...            [2 1 2 1 1]   \n",
            "3  ['Are you all right ? '\\n ' I will be all righ...              [2 1 1 1]   \n",
            "4  ['Hey John , nice skates . Are they new ? '\\n ...    [2 1 2 1 1 2 1 3 4]   \n",
            "\n",
            "                 emotion  \n",
            "0  [0 0 0 0 0 0 4 4 4 4]  \n",
            "1          [0 0 6 0 0 0]  \n",
            "2            [0 0 0 0 0]  \n",
            "3              [0 0 0 0]  \n",
            "4    [0 0 0 0 0 6 0 6 0]  \n",
            "\n",
            "Validation Sample:\n",
            "                                              dialog  \\\n",
            "0  ['Good morning , sir . Is there a bank near he...   \n",
            "1  ['Good afternoon . This is Michelle Li speakin...   \n",
            "2  ['What qualifications should a reporter have ?...   \n",
            "3  ['Hi , good morning , Miss ? what can I help y...   \n",
            "4  [\"Excuse me , ma'am . Can you tell me where th...   \n",
            "\n",
            "                                 act                            emotion  \n",
            "0                    [2 1 3 2 1 2 1]                    [0 0 0 0 0 0 0]  \n",
            "1              [2 1 1 1 1 2 3 2 3 4]              [0 0 0 0 0 0 0 0 0 0]  \n",
            "2                          [2 1 2 1]                          [0 0 0 0]  \n",
            "3  [2 3 2 2 1 2 1 2 1 1 1 3 2 1 3 4]  [0 0 0 0 0 0 0 0 0 0 0 0 0 0 0 4]  \n",
            "4                  [3 4 2 1 2 1 1 1]                  [0 0 0 0 0 0 4 4]  \n",
            "\n",
            "Test Sample:\n",
            "                                              dialog  \\\n",
            "0  ['Hey man , you wanna buy some weed ? ' ' Some...   \n",
            "1  ['The taxi drivers are on strike again . ' ' W...   \n",
            "2  [\"We've managed to reduce our energy consumpti...   \n",
            "3  ['Believe it or not , tea is the most popular ...   \n",
            "4  ['What are your personal weaknesses ? '\\n ' I ...   \n",
            "\n",
            "                             act                        emotion  \n",
            "0      [3 2 3 4 3 4 3 2 3 4 2 3]      [0 6 0 0 0 0 0 0 0 0 3 0]  \n",
            "1                      [1 2 1 1]                      [0 0 0 0]  \n",
            "2                [1 2 1 2 1 2 1]                [0 0 0 0 0 0 0]  \n",
            "3  [1 1 1 1 2 2 2 2 1 1 1 3 4 3]  [0 0 0 0 0 0 0 0 0 4 0 0 4 4]  \n",
            "4              [2 1 2 1 2 1 2 1]              [0 0 0 0 0 0 0 4]  \n"
          ]
        }
      ]
    },
    {
      "cell_type": "markdown",
      "source": [
        "**Data Cleaning and Tokenization**"
      ],
      "metadata": {
        "id": "MncYF5ngZT6U"
      }
    },
    {
      "cell_type": "code",
      "source": [
        "# Import necessary libraries\n",
        "from tensorflow.keras.preprocessing.text import Tokenizer  # For tokenizing text\n",
        "from tensorflow.keras.preprocessing.sequence import pad_sequences  # For padding sequences\n",
        "import numpy as np  # For numerical operations\n",
        "import re  # For regex-based text cleaning\n",
        "\n",
        "# Extract non-null dialogues from the DataFrame\n",
        "dialogues = train_df[\"dialog\"].dropna().tolist()\n",
        "\n",
        "# Lists to store input (previous utterance) and target (next utterance) text pairs\n",
        "input_texts = []\n",
        "target_texts = []\n",
        "\n",
        "# Debugging: Print the first few raw dialogues to inspect their format\n",
        "print(\"First few raw dialogues:\")\n",
        "print(dialogues[:3])\n",
        "\n",
        "# Iterate over each dialogue to preprocess and extract input-output pairs\n",
        "for dialogue in dialogues:\n",
        "    # Step 1: Remove brackets and quotes around the whole string (e.g., \"['Hello']\" => \"Hello\")\n",
        "    dialogue_clean = re.sub(r'^\\[[\\'\"](.*)[\\'\"]\\]$', r'\\1', dialogue.strip())\n",
        "\n",
        "    # Step 2: Replace escaped quotes and newline characters with standard versions\n",
        "    dialogue_clean = dialogue_clean.replace('\\\\\\'', \"'\").replace('\\\\\"', '\"').replace('\\n', ' ')\n",
        "\n",
        "    # Step 3: Split dialogue into individual utterances\n",
        "    if \"__eou__\" in dialogue_clean:\n",
        "        # If '__eou__' is used as a delimiter, split on it\n",
        "        utterances = [u.strip() for u in dialogue_clean.split(\"__eou__\") if u.strip()]\n",
        "    else:\n",
        "        # Otherwise, use regex to extract phrases enclosed in quotes\n",
        "        utterances = re.findall(r'[\\'\"](.*?)[\\'\"]', dialogue_clean)\n",
        "        utterances = [u.strip() for u in utterances if u.strip()]\n",
        "\n",
        "    # Step 4: Form input-output sentence pairs from consecutive utterances\n",
        "    if len(utterances) > 1:\n",
        "        for i in range(len(utterances) - 1):\n",
        "            input_texts.append(utterances[i])         # Current utterance as input\n",
        "            target_texts.append(utterances[i + 1])    # Next utterance as output\n",
        "\n",
        "# Debugging: Check how many pairs were formed and preview some\n",
        "print(f\"\\nNumber of input-output pairs: {len(input_texts)}\")\n",
        "if input_texts:\n",
        "    print(\"First 3 input-output pairs:\")\n",
        "    for i in range(min(3, len(input_texts))):\n",
        "        print(f\"Input: {input_texts[i]}\")\n",
        "        print(f\"Target: {target_texts[i]}\\n\")\n",
        "else:\n",
        "    # Raise error if no usable data was generated\n",
        "    raise ValueError(\"No input-output pairs were created. Check dialogue formatting.\")\n",
        "\n",
        "# Initialize tokenizer and set OOV (out-of-vocabulary) token\n",
        "tokenizer = Tokenizer(oov_token=\"<OOV>\")\n",
        "\n",
        "# Fit tokenizer on all texts (input and target) to build vocabulary\n",
        "tokenizer.fit_on_texts(input_texts + target_texts)\n",
        "\n",
        "# Convert texts to sequences of integers\n",
        "input_sequences = tokenizer.texts_to_sequences(input_texts)\n",
        "target_sequences = tokenizer.texts_to_sequences(target_texts)\n",
        "\n",
        "# Find maximum length of input and target sequences for padding\n",
        "max_input_len = max(len(seq) for seq in input_sequences) if input_sequences else 0\n",
        "max_target_len = max(len(seq) for seq in target_sequences) if target_sequences else 0\n",
        "\n",
        "# Pad input sequences to have uniform length\n",
        "encoder_input_data = pad_sequences(input_sequences, maxlen=max_input_len, padding='post')\n",
        "\n",
        "# Pad target sequences similarly\n",
        "decoder_input_data = pad_sequences(target_sequences, maxlen=max_target_len, padding='post')\n",
        "\n",
        "# Prepare decoder target data by shifting decoder input one step left\n",
        "decoder_target_data = np.zeros_like(decoder_input_data)              # Initialize with zeros\n",
        "decoder_target_data[:, :-1] = decoder_input_data[:, 1:]              # Shift all tokens left\n",
        "decoder_target_data[:, -1] = 0                                       # Last token is padding\n",
        "\n",
        "# Final debugging: print shapes of processed input and output arrays\n",
        "print(\"\\nEncoder input shape:\", encoder_input_data.shape)\n",
        "print(\"Decoder input shape:\", decoder_input_data.shape)\n",
        "print(\"Decoder target shape:\", decoder_target_data.shape)\n"
      ],
      "metadata": {
        "colab": {
          "base_uri": "https://localhost:8080/"
        },
        "id": "zPE_soYQ9zRa",
        "outputId": "a046ce05-f037-43d8-daaa-600a8bd21c0b"
      },
      "execution_count": null,
      "outputs": [
        {
          "output_type": "stream",
          "name": "stdout",
          "text": [
            "First few raw dialogues:\n",
            "['[\\'Say , Jim , how about going for a few beers after dinner ? \\'\\n \\' You know that is tempting but is really not good for our fitness . \\'\\n \\' What do you mean ? It will help us to relax . \\'\\n \" Do you really think so ? I don\\'t . It will just make us fat and act silly . Remember last time ? \"\\n \" I guess you are right.But what shall we do ? I don\\'t feel like sitting at home . \"\\n \\' I suggest a walk over to the gym where we can play singsong and meet some of our friends . \\'\\n \" That\\'s a good idea . I hear Mary and Sally often go there to play pingpong.Perhaps we can make a foursome with them . \"\\n \\' Sounds great to me ! If they are willing , we could ask them to go dancing with us.That is excellent exercise and fun , too . \\'\\n \" Good.Let \\' s go now . \" \\' All right . \\']', '[\\'Can you do push-ups ? \\'\\n \" Of course I can . It\\'s a piece of cake ! Believe it or not , I can do 30 push-ups a minute . \"\\n \" Really ? I think that\\'s impossible ! \" \\' You mean 30 push-ups ? \\'\\n \\' Yeah ! \\'\\n \" It\\'s easy . If you do exercise everyday , you can make it , too . \"]', '[\\'Can you study with the radio on ? \\'\\n \\' No , I listen to background music . \\' \\' What is the difference ? \\'\\n \\' The radio has too many comerials . \\'\\n \" That\\'s true , but then you have to buy a record player . \"]']\n",
            "\n",
            "Number of input-output pairs: 64618\n",
            "First 3 input-output pairs:\n",
            "Input: Say , Jim , how about going for a few beers after dinner ?\n",
            "Target: You know that is tempting but is really not good for our fitness .\n",
            "\n",
            "Input: You know that is tempting but is really not good for our fitness .\n",
            "Target: What do you mean ? It will help us to relax .\n",
            "\n",
            "Input: What do you mean ? It will help us to relax .\n",
            "Target: Do you really think so ? I don\n",
            "\n",
            "\n",
            "Encoder input shape: (64618, 235)\n",
            "Decoder input shape: (64618, 235)\n",
            "Decoder target shape: (64618, 235)\n"
          ]
        }
      ]
    },
    {
      "cell_type": "markdown",
      "source": [
        "**LSTM-based Encoder-Decoder Architecture (without Attention)**"
      ],
      "metadata": {
        "id": "cNUNADm_T-6a"
      }
    },
    {
      "cell_type": "code",
      "source": [
        "# Import necessary Keras modules for building the model\n",
        "from tensorflow.keras.models import Model              # For defining a multi-input/output model\n",
        "from tensorflow.keras.layers import Input, LSTM, Dense, Embedding  # Layers used in the Seq2Seq architecture\n",
        "from tensorflow.keras.optimizers import Adam           # Optimizer\n",
        "import time                                             # Optional: can be used to track training time\n",
        "\n",
        "# -------------------------------\n",
        "# Hyperparameters for the model\n",
        "# -------------------------------\n",
        "vocab_size = len(tokenizer.word_index) + 1              # Total number of unique words + 1 for padding/OOV\n",
        "embedding_dim = 256                                     # Dimension of word embeddings (each word → 256-d vector)\n",
        "lstm_units = 512                                        # Number of units in the LSTM layer (affects model capacity)\n",
        "batch_size = 64                                         # Number of samples per training batch\n",
        "epochs = 10                                             # Total number of passes through the entire dataset during training\n",
        "\n",
        "# -------------------------------\n",
        "# Encoder Network\n",
        "# -------------------------------\n",
        "encoder_inputs = Input(shape=(None,))                   # Input placeholder for encoder (None → variable sequence length)\n",
        "enc_emb = Embedding(vocab_size, embedding_dim, mask_zero=True)(encoder_inputs)\n",
        "# Embedding layer:\n",
        "#   - vocab_size: total vocabulary size\n",
        "#   - embedding_dim: dimensionality of embeddings\n",
        "#   - mask_zero=True: ignores padding (0) in LSTM processing\n",
        "\n",
        "encoder_lstm = LSTM(lstm_units, return_state=True)      # LSTM that returns hidden and cell state\n",
        "encoder_outputs, state_h, state_c = encoder_lstm(enc_emb)\n",
        "# encoder_outputs: last output of the encoder (not used here)\n",
        "# state_h: final hidden state of the encoder LSTM\n",
        "# state_c: final cell state of the encoder LSTM\n",
        "\n",
        "encoder_states = [state_h, state_c]                     # Encoder states to be passed to the decoder as initial state\n",
        "\n",
        "# -------------------------------\n",
        "# Decoder Network\n",
        "# -------------------------------\n",
        "decoder_inputs = Input(shape=(None,))                   # Input placeholder for decoder (sequence of target tokens)\n",
        "dec_emb = Embedding(vocab_size, embedding_dim, mask_zero=True)(decoder_inputs)\n",
        "# Same embedding layer for decoder input as in encoder\n",
        "\n",
        "decoder_lstm = LSTM(lstm_units, return_sequences=True, return_state=True)\n",
        "# LSTM:\n",
        "#   - return_sequences=True: output at each time step (needed for sequence-to-sequence)\n",
        "#   - return_state=True: return final hidden and cell state (for inference or stacking)\n",
        "\n",
        "decoder_outputs, _, _ = decoder_lstm(dec_emb, initial_state=encoder_states)\n",
        "# Decoder LSTM initialized with encoder's final states to maintain context\n",
        "\n",
        "decoder_dense = Dense(vocab_size, activation='softmax') # Fully connected layer to predict next word from decoder LSTM output\n",
        "decoder_outputs = decoder_dense(decoder_outputs)        # Apply dense layer to each output timestep\n",
        "\n",
        "# -------------------------------\n",
        "# Define and compile the full model\n",
        "# -------------------------------\n",
        "model = Model([encoder_inputs, decoder_inputs], decoder_outputs)\n",
        "# Inputs: encoder input sequence and decoder input sequence\n",
        "# Output: decoder output predictions (token probabilities at each timestep)\n",
        "\n",
        "model.compile(optimizer=Adam(0.001), loss='sparse_categorical_crossentropy')\n",
        "# Adam: adaptive learning rate optimizer (0.001 is the learning rate)\n",
        "# sparse_categorical_crossentropy: used because target sequences are integers, not one-hot encoded\n",
        "\n",
        "# Print model architecture summary\n",
        "print(model.summary())\n"
      ],
      "metadata": {
        "colab": {
          "base_uri": "https://localhost:8080/",
          "height": 578
        },
        "id": "sj9JE_FaTwce",
        "outputId": "05cc5cfe-6db5-49af-dea6-24b7e3452d58"
      },
      "execution_count": null,
      "outputs": [
        {
          "output_type": "display_data",
          "data": {
            "text/plain": [
              "\u001b[1mModel: \"functional\"\u001b[0m\n"
            ],
            "text/html": [
              "<pre style=\"white-space:pre;overflow-x:auto;line-height:normal;font-family:Menlo,'DejaVu Sans Mono',consolas,'Courier New',monospace\"><span style=\"font-weight: bold\">Model: \"functional\"</span>\n",
              "</pre>\n"
            ]
          },
          "metadata": {}
        },
        {
          "output_type": "display_data",
          "data": {
            "text/plain": [
              "┏━━━━━━━━━━━━━━━━━━━━━┳━━━━━━━━━━━━━━━━━━━┳━━━━━━━━━━━━┳━━━━━━━━━━━━━━━━━━━┓\n",
              "┃\u001b[1m \u001b[0m\u001b[1mLayer (type)       \u001b[0m\u001b[1m \u001b[0m┃\u001b[1m \u001b[0m\u001b[1mOutput Shape     \u001b[0m\u001b[1m \u001b[0m┃\u001b[1m \u001b[0m\u001b[1m   Param #\u001b[0m\u001b[1m \u001b[0m┃\u001b[1m \u001b[0m\u001b[1mConnected to     \u001b[0m\u001b[1m \u001b[0m┃\n",
              "┡━━━━━━━━━━━━━━━━━━━━━╇━━━━━━━━━━━━━━━━━━━╇━━━━━━━━━━━━╇━━━━━━━━━━━━━━━━━━━┩\n",
              "│ input_layer         │ (\u001b[38;5;45mNone\u001b[0m, \u001b[38;5;45mNone\u001b[0m)      │          \u001b[38;5;34m0\u001b[0m │ -                 │\n",
              "│ (\u001b[38;5;33mInputLayer\u001b[0m)        │                   │            │                   │\n",
              "├─────────────────────┼───────────────────┼────────────┼───────────────────┤\n",
              "│ input_layer_1       │ (\u001b[38;5;45mNone\u001b[0m, \u001b[38;5;45mNone\u001b[0m)      │          \u001b[38;5;34m0\u001b[0m │ -                 │\n",
              "│ (\u001b[38;5;33mInputLayer\u001b[0m)        │                   │            │                   │\n",
              "├─────────────────────┼───────────────────┼────────────┼───────────────────┤\n",
              "│ embedding           │ (\u001b[38;5;45mNone\u001b[0m, \u001b[38;5;45mNone\u001b[0m, \u001b[38;5;34m256\u001b[0m) │  \u001b[38;5;34m3,859,712\u001b[0m │ input_layer[\u001b[38;5;34m0\u001b[0m][\u001b[38;5;34m0\u001b[0m] │\n",
              "│ (\u001b[38;5;33mEmbedding\u001b[0m)         │                   │            │                   │\n",
              "├─────────────────────┼───────────────────┼────────────┼───────────────────┤\n",
              "│ not_equal           │ (\u001b[38;5;45mNone\u001b[0m, \u001b[38;5;45mNone\u001b[0m)      │          \u001b[38;5;34m0\u001b[0m │ input_layer[\u001b[38;5;34m0\u001b[0m][\u001b[38;5;34m0\u001b[0m] │\n",
              "│ (\u001b[38;5;33mNotEqual\u001b[0m)          │                   │            │                   │\n",
              "├─────────────────────┼───────────────────┼────────────┼───────────────────┤\n",
              "│ embedding_1         │ (\u001b[38;5;45mNone\u001b[0m, \u001b[38;5;45mNone\u001b[0m, \u001b[38;5;34m256\u001b[0m) │  \u001b[38;5;34m3,859,712\u001b[0m │ input_layer_1[\u001b[38;5;34m0\u001b[0m]… │\n",
              "│ (\u001b[38;5;33mEmbedding\u001b[0m)         │                   │            │                   │\n",
              "├─────────────────────┼───────────────────┼────────────┼───────────────────┤\n",
              "│ lstm (\u001b[38;5;33mLSTM\u001b[0m)         │ [(\u001b[38;5;45mNone\u001b[0m, \u001b[38;5;34m512\u001b[0m),     │  \u001b[38;5;34m1,574,912\u001b[0m │ embedding[\u001b[38;5;34m0\u001b[0m][\u001b[38;5;34m0\u001b[0m],  │\n",
              "│                     │ (\u001b[38;5;45mNone\u001b[0m, \u001b[38;5;34m512\u001b[0m),      │            │ not_equal[\u001b[38;5;34m0\u001b[0m][\u001b[38;5;34m0\u001b[0m]   │\n",
              "│                     │ (\u001b[38;5;45mNone\u001b[0m, \u001b[38;5;34m512\u001b[0m)]      │            │                   │\n",
              "├─────────────────────┼───────────────────┼────────────┼───────────────────┤\n",
              "│ lstm_1 (\u001b[38;5;33mLSTM\u001b[0m)       │ [(\u001b[38;5;45mNone\u001b[0m, \u001b[38;5;45mNone\u001b[0m,     │  \u001b[38;5;34m1,574,912\u001b[0m │ embedding_1[\u001b[38;5;34m0\u001b[0m][\u001b[38;5;34m0\u001b[0m… │\n",
              "│                     │ \u001b[38;5;34m512\u001b[0m), (\u001b[38;5;45mNone\u001b[0m,      │            │ lstm[\u001b[38;5;34m0\u001b[0m][\u001b[38;5;34m1\u001b[0m],       │\n",
              "│                     │ \u001b[38;5;34m512\u001b[0m), (\u001b[38;5;45mNone\u001b[0m,      │            │ lstm[\u001b[38;5;34m0\u001b[0m][\u001b[38;5;34m2\u001b[0m]        │\n",
              "│                     │ \u001b[38;5;34m512\u001b[0m)]             │            │                   │\n",
              "├─────────────────────┼───────────────────┼────────────┼───────────────────┤\n",
              "│ dense (\u001b[38;5;33mDense\u001b[0m)       │ (\u001b[38;5;45mNone\u001b[0m, \u001b[38;5;45mNone\u001b[0m,      │  \u001b[38;5;34m7,734,501\u001b[0m │ lstm_1[\u001b[38;5;34m0\u001b[0m][\u001b[38;5;34m0\u001b[0m]      │\n",
              "│                     │ \u001b[38;5;34m15077\u001b[0m)            │            │                   │\n",
              "└─────────────────────┴───────────────────┴────────────┴───────────────────┘\n"
            ],
            "text/html": [
              "<pre style=\"white-space:pre;overflow-x:auto;line-height:normal;font-family:Menlo,'DejaVu Sans Mono',consolas,'Courier New',monospace\">┏━━━━━━━━━━━━━━━━━━━━━┳━━━━━━━━━━━━━━━━━━━┳━━━━━━━━━━━━┳━━━━━━━━━━━━━━━━━━━┓\n",
              "┃<span style=\"font-weight: bold\"> Layer (type)        </span>┃<span style=\"font-weight: bold\"> Output Shape      </span>┃<span style=\"font-weight: bold\">    Param # </span>┃<span style=\"font-weight: bold\"> Connected to      </span>┃\n",
              "┡━━━━━━━━━━━━━━━━━━━━━╇━━━━━━━━━━━━━━━━━━━╇━━━━━━━━━━━━╇━━━━━━━━━━━━━━━━━━━┩\n",
              "│ input_layer         │ (<span style=\"color: #00d7ff; text-decoration-color: #00d7ff\">None</span>, <span style=\"color: #00d7ff; text-decoration-color: #00d7ff\">None</span>)      │          <span style=\"color: #00af00; text-decoration-color: #00af00\">0</span> │ -                 │\n",
              "│ (<span style=\"color: #0087ff; text-decoration-color: #0087ff\">InputLayer</span>)        │                   │            │                   │\n",
              "├─────────────────────┼───────────────────┼────────────┼───────────────────┤\n",
              "│ input_layer_1       │ (<span style=\"color: #00d7ff; text-decoration-color: #00d7ff\">None</span>, <span style=\"color: #00d7ff; text-decoration-color: #00d7ff\">None</span>)      │          <span style=\"color: #00af00; text-decoration-color: #00af00\">0</span> │ -                 │\n",
              "│ (<span style=\"color: #0087ff; text-decoration-color: #0087ff\">InputLayer</span>)        │                   │            │                   │\n",
              "├─────────────────────┼───────────────────┼────────────┼───────────────────┤\n",
              "│ embedding           │ (<span style=\"color: #00d7ff; text-decoration-color: #00d7ff\">None</span>, <span style=\"color: #00d7ff; text-decoration-color: #00d7ff\">None</span>, <span style=\"color: #00af00; text-decoration-color: #00af00\">256</span>) │  <span style=\"color: #00af00; text-decoration-color: #00af00\">3,859,712</span> │ input_layer[<span style=\"color: #00af00; text-decoration-color: #00af00\">0</span>][<span style=\"color: #00af00; text-decoration-color: #00af00\">0</span>] │\n",
              "│ (<span style=\"color: #0087ff; text-decoration-color: #0087ff\">Embedding</span>)         │                   │            │                   │\n",
              "├─────────────────────┼───────────────────┼────────────┼───────────────────┤\n",
              "│ not_equal           │ (<span style=\"color: #00d7ff; text-decoration-color: #00d7ff\">None</span>, <span style=\"color: #00d7ff; text-decoration-color: #00d7ff\">None</span>)      │          <span style=\"color: #00af00; text-decoration-color: #00af00\">0</span> │ input_layer[<span style=\"color: #00af00; text-decoration-color: #00af00\">0</span>][<span style=\"color: #00af00; text-decoration-color: #00af00\">0</span>] │\n",
              "│ (<span style=\"color: #0087ff; text-decoration-color: #0087ff\">NotEqual</span>)          │                   │            │                   │\n",
              "├─────────────────────┼───────────────────┼────────────┼───────────────────┤\n",
              "│ embedding_1         │ (<span style=\"color: #00d7ff; text-decoration-color: #00d7ff\">None</span>, <span style=\"color: #00d7ff; text-decoration-color: #00d7ff\">None</span>, <span style=\"color: #00af00; text-decoration-color: #00af00\">256</span>) │  <span style=\"color: #00af00; text-decoration-color: #00af00\">3,859,712</span> │ input_layer_1[<span style=\"color: #00af00; text-decoration-color: #00af00\">0</span>]… │\n",
              "│ (<span style=\"color: #0087ff; text-decoration-color: #0087ff\">Embedding</span>)         │                   │            │                   │\n",
              "├─────────────────────┼───────────────────┼────────────┼───────────────────┤\n",
              "│ lstm (<span style=\"color: #0087ff; text-decoration-color: #0087ff\">LSTM</span>)         │ [(<span style=\"color: #00d7ff; text-decoration-color: #00d7ff\">None</span>, <span style=\"color: #00af00; text-decoration-color: #00af00\">512</span>),     │  <span style=\"color: #00af00; text-decoration-color: #00af00\">1,574,912</span> │ embedding[<span style=\"color: #00af00; text-decoration-color: #00af00\">0</span>][<span style=\"color: #00af00; text-decoration-color: #00af00\">0</span>],  │\n",
              "│                     │ (<span style=\"color: #00d7ff; text-decoration-color: #00d7ff\">None</span>, <span style=\"color: #00af00; text-decoration-color: #00af00\">512</span>),      │            │ not_equal[<span style=\"color: #00af00; text-decoration-color: #00af00\">0</span>][<span style=\"color: #00af00; text-decoration-color: #00af00\">0</span>]   │\n",
              "│                     │ (<span style=\"color: #00d7ff; text-decoration-color: #00d7ff\">None</span>, <span style=\"color: #00af00; text-decoration-color: #00af00\">512</span>)]      │            │                   │\n",
              "├─────────────────────┼───────────────────┼────────────┼───────────────────┤\n",
              "│ lstm_1 (<span style=\"color: #0087ff; text-decoration-color: #0087ff\">LSTM</span>)       │ [(<span style=\"color: #00d7ff; text-decoration-color: #00d7ff\">None</span>, <span style=\"color: #00d7ff; text-decoration-color: #00d7ff\">None</span>,     │  <span style=\"color: #00af00; text-decoration-color: #00af00\">1,574,912</span> │ embedding_1[<span style=\"color: #00af00; text-decoration-color: #00af00\">0</span>][<span style=\"color: #00af00; text-decoration-color: #00af00\">0</span>… │\n",
              "│                     │ <span style=\"color: #00af00; text-decoration-color: #00af00\">512</span>), (<span style=\"color: #00d7ff; text-decoration-color: #00d7ff\">None</span>,      │            │ lstm[<span style=\"color: #00af00; text-decoration-color: #00af00\">0</span>][<span style=\"color: #00af00; text-decoration-color: #00af00\">1</span>],       │\n",
              "│                     │ <span style=\"color: #00af00; text-decoration-color: #00af00\">512</span>), (<span style=\"color: #00d7ff; text-decoration-color: #00d7ff\">None</span>,      │            │ lstm[<span style=\"color: #00af00; text-decoration-color: #00af00\">0</span>][<span style=\"color: #00af00; text-decoration-color: #00af00\">2</span>]        │\n",
              "│                     │ <span style=\"color: #00af00; text-decoration-color: #00af00\">512</span>)]             │            │                   │\n",
              "├─────────────────────┼───────────────────┼────────────┼───────────────────┤\n",
              "│ dense (<span style=\"color: #0087ff; text-decoration-color: #0087ff\">Dense</span>)       │ (<span style=\"color: #00d7ff; text-decoration-color: #00d7ff\">None</span>, <span style=\"color: #00d7ff; text-decoration-color: #00d7ff\">None</span>,      │  <span style=\"color: #00af00; text-decoration-color: #00af00\">7,734,501</span> │ lstm_1[<span style=\"color: #00af00; text-decoration-color: #00af00\">0</span>][<span style=\"color: #00af00; text-decoration-color: #00af00\">0</span>]      │\n",
              "│                     │ <span style=\"color: #00af00; text-decoration-color: #00af00\">15077</span>)            │            │                   │\n",
              "└─────────────────────┴───────────────────┴────────────┴───────────────────┘\n",
              "</pre>\n"
            ]
          },
          "metadata": {}
        },
        {
          "output_type": "display_data",
          "data": {
            "text/plain": [
              "\u001b[1m Total params: \u001b[0m\u001b[38;5;34m18,603,749\u001b[0m (70.97 MB)\n"
            ],
            "text/html": [
              "<pre style=\"white-space:pre;overflow-x:auto;line-height:normal;font-family:Menlo,'DejaVu Sans Mono',consolas,'Courier New',monospace\"><span style=\"font-weight: bold\"> Total params: </span><span style=\"color: #00af00; text-decoration-color: #00af00\">18,603,749</span> (70.97 MB)\n",
              "</pre>\n"
            ]
          },
          "metadata": {}
        },
        {
          "output_type": "display_data",
          "data": {
            "text/plain": [
              "\u001b[1m Trainable params: \u001b[0m\u001b[38;5;34m18,603,749\u001b[0m (70.97 MB)\n"
            ],
            "text/html": [
              "<pre style=\"white-space:pre;overflow-x:auto;line-height:normal;font-family:Menlo,'DejaVu Sans Mono',consolas,'Courier New',monospace\"><span style=\"font-weight: bold\"> Trainable params: </span><span style=\"color: #00af00; text-decoration-color: #00af00\">18,603,749</span> (70.97 MB)\n",
              "</pre>\n"
            ]
          },
          "metadata": {}
        },
        {
          "output_type": "display_data",
          "data": {
            "text/plain": [
              "\u001b[1m Non-trainable params: \u001b[0m\u001b[38;5;34m0\u001b[0m (0.00 B)\n"
            ],
            "text/html": [
              "<pre style=\"white-space:pre;overflow-x:auto;line-height:normal;font-family:Menlo,'DejaVu Sans Mono',consolas,'Courier New',monospace\"><span style=\"font-weight: bold\"> Non-trainable params: </span><span style=\"color: #00af00; text-decoration-color: #00af00\">0</span> (0.00 B)\n",
              "</pre>\n"
            ]
          },
          "metadata": {}
        },
        {
          "output_type": "stream",
          "name": "stdout",
          "text": [
            "None\n"
          ]
        }
      ]
    },
    {
      "cell_type": "markdown",
      "source": [
        "**Training the Model**"
      ],
      "metadata": {
        "id": "UWPaxBQV4O8V"
      }
    },
    {
      "cell_type": "code",
      "source": [
        "from sklearn.model_selection import train_test_split\n",
        "\n",
        "# Split into train/test sets (e.g., 80% train, 20% test)\n",
        "encoder_input_train, encoder_input_test, decoder_input_train, decoder_input_test, decoder_target_train, decoder_target_test = train_test_split(\n",
        "    encoder_input_data, decoder_input_data, decoder_target_data, test_size=0.2, random_state=42)\n"
      ],
      "metadata": {
        "id": "dcegIgwMc3Qm"
      },
      "execution_count": null,
      "outputs": []
    },
    {
      "cell_type": "code",
      "source": [
        "# ---------------------------------------------\n",
        "# Take only a small fraction (1%) of the data\n",
        "# ---------------------------------------------\n",
        "sample_size = len(encoder_input_data) // 100\n",
        "# sample_size: calculates 1% of the total dataset size using integer division (//)\n",
        "\n",
        "# ---------------------------------------------\n",
        "# Create a smaller training subset for quick testing/debugging\n",
        "# ---------------------------------------------\n",
        "small_encoder = encoder_input_data[:sample_size]       # First 1% of encoder input sequences\n",
        "small_decoder = decoder_input_data[:sample_size]       # First 1% of decoder input sequences\n",
        "\n",
        "# Prepare corresponding decoder target data\n",
        "small_target = np.zeros_like(small_decoder)            # Create an array of zeros with the same shape as decoder input\n",
        "small_target[:, :-1] = small_decoder[:, 1:]            # Shift decoder input left by 1 to form the target (next-token prediction)\n",
        "# Example:\n",
        "# decoder_input:   [<start> How are you]\n",
        "# decoder_target:  [How are you <end>]\n",
        "\n",
        "# ---------------------------------------------\n",
        "# Train the model on the small subset\n",
        "# ---------------------------------------------\n",
        "start_time = time.time()                               # Record training start time to measure duration\n",
        "\n",
        "history = model.fit(\n",
        "    [small_encoder, small_decoder],                    # Input data: encoder and decoder inputs\n",
        "    small_target,                                      # Target output: decoder next-token sequences\n",
        "    batch_size=32,                                     # Batch size: number of samples processed before model updates (smaller = faster)\n",
        "    epochs=epochs,                                     # Number of passes through the entire dataset (defined earlier as 10)\n",
        "    validation_split=0.2,                              # 20% of this small data will be used as validation set\n",
        "    verbose=1                                          # Verbose=1: shows progress bar and detailed output during training\n",
        ")\n",
        "\n",
        "print(f\"Fast training completed in {time.time()-start_time:.2f} seconds\")\n",
        "# Print total time taken for training this small subset\n"
      ],
      "metadata": {
        "colab": {
          "base_uri": "https://localhost:8080/"
        },
        "id": "GaqdHt0BeMMB",
        "outputId": "2188ecfc-23d0-466b-d174-d24eaaf6ab43"
      },
      "execution_count": null,
      "outputs": [
        {
          "output_type": "stream",
          "name": "stdout",
          "text": [
            "Epoch 1/10\n",
            "\u001b[1m17/17\u001b[0m \u001b[32m━━━━━━━━━━━━━━━━━━━━\u001b[0m\u001b[37m\u001b[0m \u001b[1m9s\u001b[0m 217ms/step - loss: 9.2602 - val_loss: 6.8116\n",
            "Epoch 2/10\n",
            "\u001b[1m17/17\u001b[0m \u001b[32m━━━━━━━━━━━━━━━━━━━━\u001b[0m\u001b[37m\u001b[0m \u001b[1m3s\u001b[0m 192ms/step - loss: 6.2810 - val_loss: 7.1574\n",
            "Epoch 3/10\n",
            "\u001b[1m17/17\u001b[0m \u001b[32m━━━━━━━━━━━━━━━━━━━━\u001b[0m\u001b[37m\u001b[0m \u001b[1m5s\u001b[0m 192ms/step - loss: 5.9215 - val_loss: 7.0207\n",
            "Epoch 4/10\n",
            "\u001b[1m17/17\u001b[0m \u001b[32m━━━━━━━━━━━━━━━━━━━━\u001b[0m\u001b[37m\u001b[0m \u001b[1m5s\u001b[0m 195ms/step - loss: 5.6827 - val_loss: 7.0085\n",
            "Epoch 5/10\n",
            "\u001b[1m17/17\u001b[0m \u001b[32m━━━━━━━━━━━━━━━━━━━━\u001b[0m\u001b[37m\u001b[0m \u001b[1m3s\u001b[0m 193ms/step - loss: 5.6907 - val_loss: 6.9702\n",
            "Epoch 6/10\n",
            "\u001b[1m17/17\u001b[0m \u001b[32m━━━━━━━━━━━━━━━━━━━━\u001b[0m\u001b[37m\u001b[0m \u001b[1m5s\u001b[0m 192ms/step - loss: 5.6276 - val_loss: 6.9517\n",
            "Epoch 7/10\n",
            "\u001b[1m17/17\u001b[0m \u001b[32m━━━━━━━━━━━━━━━━━━━━\u001b[0m\u001b[37m\u001b[0m \u001b[1m5s\u001b[0m 193ms/step - loss: 5.6098 - val_loss: 6.9531\n",
            "Epoch 8/10\n",
            "\u001b[1m17/17\u001b[0m \u001b[32m━━━━━━━━━━━━━━━━━━━━\u001b[0m\u001b[37m\u001b[0m \u001b[1m3s\u001b[0m 194ms/step - loss: 5.6330 - val_loss: 6.9059\n",
            "Epoch 9/10\n",
            "\u001b[1m17/17\u001b[0m \u001b[32m━━━━━━━━━━━━━━━━━━━━\u001b[0m\u001b[37m\u001b[0m \u001b[1m3s\u001b[0m 193ms/step - loss: 5.7289 - val_loss: 6.8910\n",
            "Epoch 10/10\n",
            "\u001b[1m17/17\u001b[0m \u001b[32m━━━━━━━━━━━━━━━━━━━━\u001b[0m\u001b[37m\u001b[0m \u001b[1m4s\u001b[0m 214ms/step - loss: 5.6700 - val_loss: 6.7459\n",
            "Fast training completed in 48.19 seconds\n"
          ]
        }
      ]
    },
    {
      "cell_type": "markdown",
      "source": [
        "**Evaluation Metrics**"
      ],
      "metadata": {
        "id": "mVCUtzORa_5E"
      }
    },
    {
      "cell_type": "code",
      "source": [
        "import pandas as pd\n",
        "import numpy as np\n",
        "import tensorflow as tf\n",
        "from tensorflow.keras.preprocessing.text import Tokenizer\n",
        "from tensorflow.keras.preprocessing.sequence import pad_sequences\n",
        "import os\n",
        "\n",
        "# Load datasets\n",
        "train_df = pd.read_csv(\"train.csv\")\n",
        "valid_df = pd.read_csv(\"validation.csv\")\n",
        "test_df = pd.read_csv(\"test.csv\")\n",
        "\n",
        "# Drop missing values\n",
        "train_df = train_df.dropna()\n",
        "\n",
        "# Extract input and target texts\n",
        "input_texts = train_df['dialog'].astype(str).tolist()  # Input sequences (dialogues)\n",
        "target_texts = train_df['act'].astype(str).apply(lambda x: '<start> ' + x + ' <end>').tolist()  # Target sequences (actions)\n",
        "\n",
        "# Tokenize the input and target texts\n",
        "tokenizer = Tokenizer(filters='', oov_token='<OOV>')\n",
        "tokenizer.fit_on_texts(input_texts + target_texts)  # Fit tokenizer on both input and target texts\n",
        "\n",
        "# Convert texts to sequences\n",
        "input_seq = tokenizer.texts_to_sequences(input_texts)\n",
        "target_seq = tokenizer.texts_to_sequences(target_texts)\n",
        "\n",
        "# Find the maximum sequence lengths for input and target sequences\n",
        "max_input_len = max(len(seq) for seq in input_seq)\n",
        "max_target_len = max(len(seq) for seq in target_seq)\n",
        "\n",
        "# Padding sequences to a fixed length\n",
        "input_seq = pad_sequences(input_seq, maxlen=max_input_len, padding='post')\n",
        "target_seq = pad_sequences(target_seq, maxlen=max_target_len, padding='post')\n",
        "\n",
        "# Split the target sequence into decoder input and decoder output\n",
        "decoder_input = target_seq[:, :-1]  # The decoder input is the target sequence excluding the last token\n",
        "decoder_output = target_seq[:, 1:]  # The decoder output is the target sequence excluding the first token\n",
        "\n"
      ],
      "metadata": {
        "id": "7RceyU4yht3L"
      },
      "execution_count": null,
      "outputs": []
    },
    {
      "cell_type": "code",
      "source": [
        "from tensorflow.keras.models import Model\n",
        "from tensorflow.keras.layers import Input, Embedding, GRU, AdditiveAttention, Concatenate, Dense\n",
        "import tensorflow as tf\n",
        "\n",
        "# Define fixed sizes\n",
        "vocab_size = len(tokenizer.word_index) + 1\n",
        "embedding_dim = 256\n",
        "latent_dim = 256\n",
        "\n",
        "# Encoder\n",
        "encoder_inputs = Input(shape=(max_input_len,))\n",
        "enc_emb = Embedding(vocab_size, embedding_dim)(encoder_inputs)\n",
        "enc_outputs, enc_state = GRU(latent_dim, return_sequences=True, return_state=True)(enc_emb)\n",
        "\n",
        "# Decoder\n",
        "decoder_inputs = Input(shape=(max_target_len - 1,))\n",
        "dec_emb = Embedding(vocab_size, embedding_dim)(decoder_inputs)\n",
        "dec_outputs, _ = GRU(latent_dim, return_sequences=True, return_state=True)(dec_emb, initial_state=enc_state)\n",
        "\n",
        "# Attention\n",
        "attention = AdditiveAttention()\n",
        "context_vector = attention([dec_outputs, enc_outputs])\n",
        "\n",
        "# Concatenate context with decoder output\n",
        "concat = Concatenate(axis=-1)([context_vector, dec_outputs])\n",
        "\n",
        "# Final dense layer\n",
        "final_output = Dense(vocab_size, activation='softmax')(concat)\n",
        "\n",
        "# Compile model\n",
        "attn_model = Model([encoder_inputs, decoder_inputs], final_output)\n",
        "attn_model.compile(optimizer='adam', loss='sparse_categorical_crossentropy', metrics=['accuracy'])\n"
      ],
      "metadata": {
        "id": "SaFTLTMmkNw6"
      },
      "execution_count": null,
      "outputs": []
    },
    {
      "cell_type": "code",
      "source": [
        "import numpy as np  # Import NumPy (not directly used in this code, but good for future extensions)\n",
        "\n",
        "# -------------------------------------------------\n",
        "# Sample model output predictions and reference texts\n",
        "# -------------------------------------------------\n",
        "predictions = [\"the cat sat on the mat\", \"this is a test sentence\"]  # Model-generated sentences\n",
        "references = [\"the cat is sitting on the mat\", \"this is a test\"]      # Ground truth/reference sentences\n",
        "\n",
        "# -------------------------------------------------\n",
        "# Function to tokenize text into individual words (tokens)\n",
        "# -------------------------------------------------\n",
        "def tokenize(text):\n",
        "    return text.split()  # Split string by spaces to create a list of words\n",
        "\n",
        "# -------------------------------------------------\n",
        "# Function to calculate token-level accuracy\n",
        "# -------------------------------------------------\n",
        "def calculate_token_accuracy(predictions, references):\n",
        "    correct = 0  # Counter for correct tokens (matched between prediction and reference)\n",
        "    total = 0    # Counter for total number of tokens in predictions\n",
        "\n",
        "    for i in range(len(predictions)):\n",
        "        # Tokenize both predicted and reference sentences\n",
        "        pred_tokens = tokenize(predictions[i])  # e.g., ['the', 'cat', 'sat', 'on', 'the', 'mat']\n",
        "        ref_tokens = tokenize(references[i])    # e.g., ['the', 'cat', 'is', 'sitting', 'on', 'the', 'mat']\n",
        "\n",
        "        # Compare each predicted token to reference tokens (naive match)\n",
        "        for token in pred_tokens:\n",
        "            if token in ref_tokens:  # If the token exists anywhere in reference\n",
        "                correct += 1\n",
        "        total += len(pred_tokens)  # Update total with number of predicted tokens\n",
        "\n",
        "    # Calculate accuracy as percentage of correct matches\n",
        "    accuracy = (correct / total) * 100 if total > 0 else 0\n",
        "    return accuracy\n",
        "\n",
        "# -------------------------------------------------\n",
        "# Call the function and print the result\n",
        "# -------------------------------------------------\n",
        "accuracy = calculate_token_accuracy(predictions, references)\n",
        "print(f\" Accuracy: {accuracy:.2f}%\")  # Output the token-level accuracy (e.g., 83.33%)\n"
      ],
      "metadata": {
        "colab": {
          "base_uri": "https://localhost:8080/"
        },
        "id": "bagE_fbTn8NJ",
        "outputId": "a6165d90-2be1-47bb-c1a8-3daa717922fc"
      },
      "execution_count": null,
      "outputs": [
        {
          "output_type": "stream",
          "name": "stdout",
          "text": [
            " Accuracy: 81.82%\n"
          ]
        }
      ]
    },
    {
      "cell_type": "code",
      "source": [
        "!pip install rouge-score"
      ],
      "metadata": {
        "colab": {
          "base_uri": "https://localhost:8080/"
        },
        "id": "fUrKu063c-mE",
        "outputId": "b37bf54e-c1c2-42f8-d603-ff8656675a94"
      },
      "execution_count": null,
      "outputs": [
        {
          "output_type": "stream",
          "name": "stdout",
          "text": [
            "Collecting rouge-score\n",
            "  Downloading rouge_score-0.1.2.tar.gz (17 kB)\n",
            "  Preparing metadata (setup.py) ... \u001b[?25l\u001b[?25hdone\n",
            "Requirement already satisfied: absl-py in /usr/local/lib/python3.11/dist-packages (from rouge-score) (1.4.0)\n",
            "Requirement already satisfied: nltk in /usr/local/lib/python3.11/dist-packages (from rouge-score) (3.9.1)\n",
            "Requirement already satisfied: numpy in /usr/local/lib/python3.11/dist-packages (from rouge-score) (2.0.2)\n",
            "Requirement already satisfied: six>=1.14.0 in /usr/local/lib/python3.11/dist-packages (from rouge-score) (1.17.0)\n",
            "Requirement already satisfied: click in /usr/local/lib/python3.11/dist-packages (from nltk->rouge-score) (8.1.8)\n",
            "Requirement already satisfied: joblib in /usr/local/lib/python3.11/dist-packages (from nltk->rouge-score) (1.4.2)\n",
            "Requirement already satisfied: regex>=2021.8.3 in /usr/local/lib/python3.11/dist-packages (from nltk->rouge-score) (2024.11.6)\n",
            "Requirement already satisfied: tqdm in /usr/local/lib/python3.11/dist-packages (from nltk->rouge-score) (4.67.1)\n",
            "Building wheels for collected packages: rouge-score\n",
            "  Building wheel for rouge-score (setup.py) ... \u001b[?25l\u001b[?25hdone\n",
            "  Created wheel for rouge-score: filename=rouge_score-0.1.2-py3-none-any.whl size=24934 sha256=31cd9d4dbb11e303de5e4bf42eef68da77ba5bd0373a1666c62300fc9fd02a25\n",
            "  Stored in directory: /root/.cache/pip/wheels/1e/19/43/8a442dc83660ca25e163e1bd1f89919284ab0d0c1475475148\n",
            "Successfully built rouge-score\n",
            "Installing collected packages: rouge-score\n",
            "Successfully installed rouge-score-0.1.2\n"
          ]
        }
      ]
    },
    {
      "cell_type": "code",
      "source": [
        "from rouge_score import rouge_scorer  # Import the ROUGE scorer from the rouge_score library\n",
        "\n",
        "# --------------------------------------------\n",
        "# Sample predicted and reference sentences\n",
        "# --------------------------------------------\n",
        "predictions = [\"the cat sat on the mat\", \"this is a test sentence\"]  # Model-generated output\n",
        "references = [\"the cat is sitting on the mat\", \"this is a test\"]      # Ground truth output\n",
        "\n",
        "# --------------------------------------------\n",
        "# Initialize the ROUGE scorer\n",
        "# --------------------------------------------\n",
        "# rouge1  = unigram (word-level) overlap\n",
        "# rouge2  = bigram (2-word sequence) overlap\n",
        "# rougeL  = longest common subsequence (LCS) overlap\n",
        "scorer = rouge_scorer.RougeScorer(['rouge1', 'rouge2', 'rougeL'])\n",
        "\n",
        "# --------------------------------------------\n",
        "# Loop through each prediction-reference pair\n",
        "# --------------------------------------------\n",
        "for i in range(len(predictions)):\n",
        "    prediction = predictions[i]  # Get the i-th predicted sentence\n",
        "    reference = references[i]    # Get the i-th reference sentence\n",
        "\n",
        "    # --------------------------------------------\n",
        "    # Compute ROUGE scores\n",
        "    # --------------------------------------------\n",
        "    # scorer.score(reference, prediction):\n",
        "    # - reference: actual ground truth sentence\n",
        "    # - prediction: sentence generated by model\n",
        "    score = scorer.score(reference, prediction)\n",
        "\n",
        "    # --------------------------------------------\n",
        "    # Print each ROUGE score result\n",
        "    # score['rouge1'], score['rouge2'], score['rougeL'] return namedtuples\n",
        "    # containing precision, recall, and F1 score\n",
        "    # --------------------------------------------\n",
        "    print(f\"ROUGE scores for Prediction {i + 1}:\")\n",
        "    print(f\"ROUGE-1: {score['rouge1']}\")  # Unigram overlap scores\n",
        "    print(f\"ROUGE-2: {score['rouge2']}\")  # Bigram overlap scores\n",
        "    print(f\"ROUGE-L: {score['rougeL']}\")  # Longest common subsequence scores\n",
        "    print(\"-------------------------------------------------\")"
      ],
      "metadata": {
        "colab": {
          "base_uri": "https://localhost:8080/"
        },
        "id": "1M6nwrStnyHh",
        "outputId": "707dc669-1da1-408f-dfed-ee3594c8da7c"
      },
      "execution_count": null,
      "outputs": [
        {
          "output_type": "stream",
          "name": "stdout",
          "text": [
            "ROUGE scores for Prediction 1:\n",
            "ROUGE-1: Score(precision=0.8333333333333334, recall=0.7142857142857143, fmeasure=0.7692307692307692)\n",
            "ROUGE-2: Score(precision=0.6, recall=0.5, fmeasure=0.5454545454545454)\n",
            "ROUGE-L: Score(precision=0.8333333333333334, recall=0.7142857142857143, fmeasure=0.7692307692307692)\n",
            "-------------------------------------------------\n",
            "ROUGE scores for Prediction 2:\n",
            "ROUGE-1: Score(precision=0.8, recall=1.0, fmeasure=0.888888888888889)\n",
            "ROUGE-2: Score(precision=0.75, recall=1.0, fmeasure=0.8571428571428571)\n",
            "ROUGE-L: Score(precision=0.8, recall=1.0, fmeasure=0.888888888888889)\n",
            "-------------------------------------------------\n"
          ]
        }
      ]
    },
    {
      "cell_type": "code",
      "source": [
        "import time\n",
        "import numpy as np\n",
        "\n",
        "# Example function for making a prediction with multiple inputs\n",
        "def make_prediction(model, input_sequence, decoder_input_sequence):\n",
        "    prediction = model.predict([input_sequence, decoder_input_sequence])\n",
        "    return prediction\n",
        "\n",
        "# Measure inference time for a single prediction with multiple inputs\n",
        "start_time = time.time()\n",
        "\n",
        "input_sequence = np.random.rand(1, 885)  # Input sequence (shape: (batch_size, input_length))\n",
        "decoder_input_sequence = np.random.rand(1, 36)  # Decoder input sequence (shape: (batch_size, decoder_input_length))\n",
        "\n",
        "# Make the prediction\n",
        "prediction = make_prediction(model, input_sequence, decoder_input_sequence)\n",
        "\n",
        "end_time = time.time()\n",
        "\n",
        "# Calculate inference time\n",
        "inference_time = end_time - start_time\n",
        "print(f\"Inference Time for a Single Prediction: {inference_time:.4f} seconds\")\n"
      ],
      "metadata": {
        "colab": {
          "base_uri": "https://localhost:8080/"
        },
        "id": "yVU4U8tLoi0Y",
        "outputId": "44558914-c4e8-4eab-f34c-bf9fed12f3a2"
      },
      "execution_count": null,
      "outputs": [
        {
          "output_type": "stream",
          "name": "stdout",
          "text": [
            "\u001b[1m1/1\u001b[0m \u001b[32m━━━━━━━━━━━━━━━━━━━━\u001b[0m\u001b[37m\u001b[0m \u001b[1m0s\u001b[0m 261ms/step\n",
            "Inference Time for a Single Prediction: 0.3076 seconds\n"
          ]
        }
      ]
    },
    {
      "cell_type": "code",
      "source": [
        "import nltk  # Import the Natural Language Toolkit library for NLP evaluation\n",
        "from nltk.translate.bleu_score import corpus_bleu, SmoothingFunction  # Import BLEU score tools\n",
        "\n",
        "# ------------------------------------------------------------\n",
        "# Function to calculate BLEU score\n",
        "# Parameters:\n",
        "# - predictions: list of predicted token lists (e.g., [['hello', 'world']])\n",
        "# - references: list of reference token lists, each item is a list of one or more reference sequences\n",
        "# Returns:\n",
        "# - BLEU score (float)\n",
        "# ------------------------------------------------------------\n",
        "def calculate_bleu_and_meteor(predictions, references):\n",
        "    # Define a smoothing function to avoid zero scores for short sequences\n",
        "    smoothing = SmoothingFunction().method1\n",
        "\n",
        "    # Compute BLEU-4 score (up to 4-gram)\n",
        "    # weights=(0.25, 0.25, 0.25, 0.25): uniform weights for BLEU-4 (unigram to 4-gram)\n",
        "    # corpus_bleu expects references as a list of list-of-lists and predictions as list of lists\n",
        "    bleu_score = corpus_bleu(\n",
        "        references,              # list of true reference sentences (tokenized)\n",
        "        predictions,             # list of predicted sentences (tokenized)\n",
        "        smoothing_function=smoothing,  # apply smoothing to handle edge cases\n",
        "        weights=(0.25, 0.25, 0.25, 0.25)  # use BLEU-4 with equal weights for 1 to 4-grams\n",
        "    )\n",
        "\n",
        "    return bleu_score  # Return the computed BLEU score\n",
        "\n",
        "# ------------------------------------------------------------\n",
        "# Example inputs for evaluation\n",
        "# predictions: predicted output sequences, tokenized as list of tokens\n",
        "# references: ground truth sequences, each sentence may have multiple reference variants\n",
        "# ------------------------------------------------------------\n",
        "predictions = [['hello', 'world'], ['this', 'is', 'test']]  # Example predicted sequences\n",
        "references = [[['hello', 'world']], [['this', 'is', 'test']]]  # Corresponding reference sequences\n",
        "\n",
        "# ------------------------------------------------------------\n",
        "# Call the function to compute BLEU score using example data\n",
        "# ------------------------------------------------------------\n",
        "bleu_score = calculate_bleu_and_meteor(predictions, references)\n",
        "\n",
        "# Print the final BLEU score (4 decimal places)\n",
        "print(f\"BLEU Score: {bleu_score:.4f}\")\n"
      ],
      "metadata": {
        "colab": {
          "base_uri": "https://localhost:8080/"
        },
        "id": "LR9idhX9l9VI",
        "outputId": "f87d42ca-1468-4bb4-88de-a35a77623211"
      },
      "execution_count": null,
      "outputs": [
        {
          "output_type": "stream",
          "name": "stdout",
          "text": [
            "BLEU Score: 0.3976\n"
          ]
        }
      ]
    },
    {
      "cell_type": "code",
      "source": [
        "import matplotlib.pyplot as plt\n",
        "\n",
        "# Example scores for Accuracy, BLEU, and METEOR\n",
        "accuracy = 0.8333\n",
        "bleu = 0.3976\n",
        "\n",
        "# Create a list of the metrics and their values\n",
        "metrics = ['Accuracy', 'BLEU']\n",
        "scores = [accuracy, bleu]\n",
        "\n",
        "# Plotting the comparison graph\n",
        "plt.figure(figsize=(8, 6))\n",
        "plt.bar(metrics, scores, color=['red', 'orange'])\n",
        "\n",
        "# Adding labels and title\n",
        "plt.xlabel('Metrics')\n",
        "plt.ylabel('Scores')\n",
        "plt.title('Comparison of Model Evaluation Metrics')\n",
        "\n",
        "# Display the plot\n",
        "plt.show()\n"
      ],
      "metadata": {
        "colab": {
          "base_uri": "https://localhost:8080/",
          "height": 564
        },
        "id": "abrZA7znqd4L",
        "outputId": "e8f858db-dbb0-4603-e2bb-1f49067e7092"
      },
      "execution_count": null,
      "outputs": [
        {
          "output_type": "display_data",
          "data": {
            "text/plain": [
              "<Figure size 800x600 with 1 Axes>"
            ],
            "image/png": "[encoded data removed]"
          },
          "metadata": {}
        }
      ]
    },
    {
      "cell_type": "markdown",
      "source": [
        "## **With Attention**"
      ],
      "metadata": {
        "id": "3FzaNJScdxHW"
      }
    },
    {
      "cell_type": "code",
      "source": [
        "%matplotlib inline"
      ],
      "metadata": {
        "id": "2g2mRvHGd2B_"
      },
      "execution_count": null,
      "outputs": []
    },
    {
      "cell_type": "code",
      "source": [
        "# Load a sample CSV for demonstration\n",
        "df = pd.read_csv(\"train.csv\")\n",
        "print(df.head())\n"
      ],
      "metadata": {
        "colab": {
          "base_uri": "https://localhost:8080/"
        },
        "id": "CdimUEy-d2OL",
        "outputId": "e310ebe3-4e55-41b5-d3e3-535bbe2ae58d"
      },
      "execution_count": null,
      "outputs": [
        {
          "output_type": "stream",
          "name": "stdout",
          "text": [
            "                                              dialog                    act  \\\n",
            "0  ['Say , Jim , how about going for a few beers ...  [3 4 2 2 2 3 4 1 3 4]   \n",
            "1  ['Can you do push-ups ? '\\n \" Of course I can ...          [2 1 2 2 1 1]   \n",
            "2  ['Can you study with the radio on ? '\\n ' No ,...            [2 1 2 1 1]   \n",
            "3  ['Are you all right ? '\\n ' I will be all righ...              [2 1 1 1]   \n",
            "4  ['Hey John , nice skates . Are they new ? '\\n ...    [2 1 2 1 1 2 1 3 4]   \n",
            "\n",
            "                 emotion  \n",
            "0  [0 0 0 0 0 0 4 4 4 4]  \n",
            "1          [0 0 6 0 0 0]  \n",
            "2            [0 0 0 0 0]  \n",
            "3              [0 0 0 0]  \n",
            "4    [0 0 0 0 0 6 0 6 0]  \n"
          ]
        }
      ]
    },
    {
      "cell_type": "code",
      "source": [
        "import torch              # PyTorch library for tensor operations\n",
        "import torch.nn as nn     # Submodule for building neural network layers\n",
        "\n",
        "# Define an Encoder class using GRU (inherits from nn.Module)\n",
        "class Encoder(nn.Module):\n",
        "    # Constructor to initialize the encoder\n",
        "    def __init__(self, input_dim, emb_dim, hidden_dim, n_layers, dropout):\n",
        "        super().__init__()  # Call the parent constructor\n",
        "\n",
        "        # input_dim: vocabulary size (number of unique tokens)\n",
        "        # emb_dim: dimension of the embedding vectors\n",
        "        # hidden_dim: number of features in the hidden state of the GRU\n",
        "        # n_layers: number of stacked GRU layers\n",
        "        # dropout: dropout probability for regularization between GRU layers\n",
        "\n",
        "        # Embedding layer to convert token indices to dense vectors\n",
        "        self.embedding = nn.Embedding(input_dim, emb_dim)\n",
        "\n",
        "        # GRU layer (Gated Recurrent Unit)\n",
        "        # Takes embeddings as input and outputs hidden states\n",
        "        self.rnn = nn.GRU(emb_dim, hidden_dim, n_layers, dropout=dropout)\n",
        "\n",
        "        # Dropout layer to reduce overfitting\n",
        "        self.dropout = nn.Dropout(dropout)\n",
        "\n",
        "    # Forward pass of the encoder\n",
        "    def forward(self, src):\n",
        "        # src: source input sequence (shape: [sequence_length, batch_size])\n",
        "\n",
        "        # Apply embedding and dropout to the input sequence\n",
        "        embedded = self.dropout(self.embedding(src))  # shape: [seq_len, batch_size, emb_dim]\n",
        "\n",
        "        # Pass the embedded input through the GRU\n",
        "        outputs, hidden = self.rnn(embedded)\n",
        "        # outputs: all hidden states from GRU (for attention, etc.), shape: [seq_len, batch_size, hidden_dim]\n",
        "        # hidden: final hidden state from the last GRU layer, shape: [n_layers, batch_size, hidden_dim]\n",
        "\n",
        "        return outputs, hidden  # Return both full outputs and final hidden state\n"
      ],
      "metadata": {
        "id": "hLEiJZ7Md2a6"
      },
      "execution_count": null,
      "outputs": []
    },
    {
      "cell_type": "code",
      "source": [
        "# Define Bahdanau Attention mechanism as a PyTorch module\n",
        "class BahdanauAttention(nn.Module):\n",
        "    def __init__(self, enc_hidden_dim, dec_hidden_dim):\n",
        "        super().__init__()  # Initialize the parent class\n",
        "\n",
        "        # enc_hidden_dim: Dimension of encoder's hidden state\n",
        "        # dec_hidden_dim: Dimension of decoder's hidden state\n",
        "\n",
        "        # Linear layer to combine encoder and decoder hidden states\n",
        "        self.attn = nn.Linear(enc_hidden_dim + dec_hidden_dim, dec_hidden_dim)\n",
        "\n",
        "        # Learnable parameter vector v used to compute attention scores\n",
        "        self.v = nn.Parameter(torch.rand(dec_hidden_dim))\n",
        "\n",
        "    def forward(self, hidden, encoder_outputs):\n",
        "        # hidden: decoder hidden state at current time step (shape: [n_layers, batch_size, dec_hidden_dim])\n",
        "        # encoder_outputs: all encoder outputs for each time step (shape: [src_len, batch_size, enc_hidden_dim])\n",
        "\n",
        "        batch_size = encoder_outputs.shape[1]  # Get batch size\n",
        "        src_len = encoder_outputs.shape[0]     # Get source sequence length\n",
        "\n",
        "        # Repeat the last decoder hidden state across all time steps (shape: [src_len, batch_size, dec_hidden_dim])\n",
        "        hidden = hidden[-1].repeat(src_len, 1, 1)\n",
        "\n",
        "        # Concatenate encoder_outputs and repeated decoder hidden states (along last dim)\n",
        "        # Then pass through a tanh-activated linear layer to compute energy scores\n",
        "        # energy shape: [src_len, batch_size, dec_hidden_dim]\n",
        "        energy = torch.tanh(self.attn(torch.cat((hidden, encoder_outputs), dim=2)))\n",
        "\n",
        "        # Rearrange dimensions to prepare for batch matrix multiplication\n",
        "        # energy shape becomes: [batch_size, dec_hidden_dim, src_len]\n",
        "        energy = energy.permute(1, 2, 0)\n",
        "\n",
        "        # Repeat vector v for each batch and reshape for batch matrix multiplication\n",
        "        # v shape: [batch_size, 1, dec_hidden_dim]\n",
        "        v = self.v.repeat(batch_size, 1).unsqueeze(1)\n",
        "\n",
        "        # Compute attention scores: batch matrix multiply v and energy\n",
        "        # attention shape: [batch_size, src_len]\n",
        "        attention = torch.bmm(v, energy).squeeze(1)\n",
        "\n",
        "        # Apply softmax to normalize attention scores across the source sequence\n",
        "        return torch.softmax(attention, dim=1)  # shape: [batch_size, src_len]\n"
      ],
      "metadata": {
        "id": "2eo5MtYxd2m7"
      },
      "execution_count": null,
      "outputs": []
    },
    {
      "cell_type": "code",
      "source": [
        "# Define Luong Attention mechanism as a PyTorch module\n",
        "class LuongAttention(nn.Module):\n",
        "    def __init__(self, hidden_dim):\n",
        "        super().__init__()  # Initialize the parent class\n",
        "\n",
        "        # hidden_dim: Dimension of the hidden state of the decoder\n",
        "\n",
        "        # Linear layer to project the decoder output into the same space as the encoder output\n",
        "        self.attn = nn.Linear(hidden_dim, hidden_dim)\n",
        "\n",
        "    def forward(self, decoder_output, encoder_outputs):\n",
        "        # decoder_output: Output of the decoder at the current time step (shape: [batch_size, hidden_dim])\n",
        "        # encoder_outputs: All encoder outputs (shape: [src_len, batch_size, hidden_dim])\n",
        "\n",
        "        # Calculate attention energies: batch matrix multiplication (BMM)\n",
        "        # encoder_outputs.transpose(0, 1): Shape changes from [src_len, batch_size, hidden_dim]\n",
        "        # to [batch_size, src_len, hidden_dim], allowing batch-wise multiplication with decoder output\n",
        "        # decoder_output.unsqueeze(2): Adds an extra dimension to decoder output, changing shape from [batch_size, hidden_dim] to [batch_size, hidden_dim, 1]\n",
        "        # attn_energies shape: [batch_size, src_len], which is the raw attention scores\n",
        "        attn_energies = torch.bmm(encoder_outputs.transpose(0, 1),\n",
        "                                  decoder_output.unsqueeze(2)).squeeze(2)\n",
        "\n",
        "        # Apply softmax over the attention energies to get the normalized attention weights\n",
        "        # The result will be a probability distribution across the source sequence (shape: [batch_size, src_len])\n",
        "        return torch.softmax(attn_energies, dim=1)\n"
      ],
      "metadata": {
        "id": "hsDG0hL5d2ym"
      },
      "execution_count": null,
      "outputs": []
    },
    {
      "cell_type": "code",
      "source": [
        "# Define the Decoder class which uses attention mechanism, GRU, and fully connected layer to generate predictions\n",
        "class Decoder(nn.Module):\n",
        "    def __init__(self, output_dim, emb_dim, enc_hidden_dim, dec_hidden_dim, attention, n_layers, dropout):\n",
        "        super().__init__()  # Initialize the parent class (nn.Module)\n",
        "\n",
        "        # Parameters:\n",
        "        # output_dim: Size of the output vocabulary (number of words in the output language)\n",
        "        # emb_dim: Embedding dimension (size of the word embeddings)\n",
        "        # enc_hidden_dim: Size of the hidden state of the encoder\n",
        "        # dec_hidden_dim: Size of the hidden state of the decoder\n",
        "        # attention: Attention mechanism (e.g., Bahdanau or Luong attention)\n",
        "        # n_layers: Number of GRU layers in the decoder\n",
        "        # dropout: Dropout rate to prevent overfitting\n",
        "\n",
        "        self.output_dim = output_dim  # Set the output dimension (vocabulary size)\n",
        "        self.attention = attention  # Initialize the attention mechanism\n",
        "        self.embedding = nn.Embedding(output_dim, emb_dim)  # Word embedding layer (mapping words to vectors)\n",
        "        self.rnn = nn.GRU(enc_hidden_dim + emb_dim, dec_hidden_dim, n_layers, dropout=dropout)  # GRU layer for RNN\n",
        "        self.fc_out = nn.Linear(enc_hidden_dim + dec_hidden_dim + emb_dim, output_dim)  # Linear layer to output the prediction\n",
        "        self.dropout = nn.Dropout(dropout)  # Dropout layer to apply during training\n",
        "\n",
        "    def forward(self, input, hidden, encoder_outputs):\n",
        "        # input: Current word from the target sequence (shape: [batch_size])\n",
        "        # hidden: The current hidden state from the previous decoder step (shape: [n_layers, batch_size, dec_hidden_dim])\n",
        "        # encoder_outputs: The outputs from the encoder (shape: [src_len, batch_size, enc_hidden_dim])\n",
        "\n",
        "        input = input.unsqueeze(0)  # Add a batch dimension to input (shape: [1, batch_size])\n",
        "        embedded = self.dropout(self.embedding(input))  # Pass the input word through the embedding layer and apply dropout\n",
        "\n",
        "        # Calculate attention weights based on the current hidden state and the encoder outputs\n",
        "        attn_weights = self.attention(hidden, encoder_outputs)  # Attention scores (shape: [batch_size, src_len])\n",
        "        attn_weights = attn_weights.unsqueeze(1)  # Add extra dimension for matrix multiplication (shape: [batch_size, 1, src_len])\n",
        "\n",
        "        # Compute the context vector by applying attention weights to the encoder outputs\n",
        "        context = torch.bmm(attn_weights, encoder_outputs.transpose(0, 1))  # Context vector (shape: [batch_size, 1, enc_hidden_dim])\n",
        "        context = context.transpose(0, 1)  # Transpose to get the shape [1, batch_size, enc_hidden_dim]\n",
        "\n",
        "        # Concatenate the embedded input with the context vector\n",
        "        rnn_input = torch.cat((embedded, context), dim=2)  # Combine the context with the embedded input (shape: [1, batch_size, emb_dim + enc_hidden_dim])\n",
        "\n",
        "        # Pass the combined input through the GRU to get the output and new hidden state\n",
        "        output, hidden = self.rnn(rnn_input, hidden)  # GRU output and hidden state (shape: [1, batch_size, dec_hidden_dim])\n",
        "\n",
        "        # Calculate the prediction by passing the GRU output, context, and embedded input through the fully connected layer\n",
        "        prediction = self.fc_out(torch.cat((output, context, embedded), dim=2).squeeze(0))  # Prediction (shape: [batch_size, output_dim])\n",
        "\n",
        "        return prediction, hidden, attn_weights  # Return the prediction, updated hidden state, and attention weights"
      ],
      "metadata": {
        "id": "nw0M1yy2esZp"
      },
      "execution_count": null,
      "outputs": []
    },
    {
      "cell_type": "code",
      "source": [
        "!pip install torchtext\n",
        "!pip install nltk"
      ],
      "metadata": {
        "colab": {
          "base_uri": "https://localhost:8080/",
          "height": 1000
        },
        "id": "955vYoEzes-T",
        "outputId": "e19dd317-b85b-47f9-e0e9-1c0215f1eb4d"
      },
      "execution_count": null,
      "outputs": [
        {
          "output_type": "stream",
          "name": "stdout",
          "text": [
            "Collecting torchtext\n",
            "  Downloading torchtext-0.18.0-cp311-cp311-manylinux1_x86_64.whl.metadata (7.9 kB)\n",
            "Requirement already satisfied: tqdm in /usr/local/lib/python3.11/dist-packages (from torchtext) (4.67.1)\n",
            "Requirement already satisfied: requests in /usr/local/lib/python3.11/dist-packages (from torchtext) (2.32.3)\n",
            "Requirement already satisfied: torch>=2.3.0 in /usr/local/lib/python3.11/dist-packages (from torchtext) (2.6.0+cu124)\n",
            "Requirement already satisfied: numpy in /usr/local/lib/python3.11/dist-packages (from torchtext) (2.0.2)\n",
            "Requirement already satisfied: filelock in /usr/local/lib/python3.11/dist-packages (from torch>=2.3.0->torchtext) (3.18.0)\n",
            "Requirement already satisfied: typing-extensions>=4.10.0 in /usr/local/lib/python3.11/dist-packages (from torch>=2.3.0->torchtext) (4.13.2)\n",
            "Requirement already satisfied: networkx in /usr/local/lib/python3.11/dist-packages (from torch>=2.3.0->torchtext) (3.4.2)\n",
            "Requirement already satisfied: jinja2 in /usr/local/lib/python3.11/dist-packages (from torch>=2.3.0->torchtext) (3.1.6)\n",
            "Requirement already satisfied: fsspec in /usr/local/lib/python3.11/dist-packages (from torch>=2.3.0->torchtext) (2025.3.2)\n",
            "Collecting nvidia-cuda-nvrtc-cu12==12.4.127 (from torch>=2.3.0->torchtext)\n",
            "  Downloading nvidia_cuda_nvrtc_cu12-12.4.127-py3-none-manylinux2014_x86_64.whl.metadata (1.5 kB)\n",
            "Collecting nvidia-cuda-runtime-cu12==12.4.127 (from torch>=2.3.0->torchtext)\n",
            "  Downloading nvidia_cuda_runtime_cu12-12.4.127-py3-none-manylinux2014_x86_64.whl.metadata (1.5 kB)\n",
            "Collecting nvidia-cuda-cupti-cu12==12.4.127 (from torch>=2.3.0->torchtext)\n",
            "  Downloading nvidia_cuda_cupti_cu12-12.4.127-py3-none-manylinux2014_x86_64.whl.metadata (1.6 kB)\n",
            "Collecting nvidia-cudnn-cu12==9.1.0.70 (from torch>=2.3.0->torchtext)\n",
            "  Downloading nvidia_cudnn_cu12-9.1.0.70-py3-none-manylinux2014_x86_64.whl.metadata (1.6 kB)\n",
            "Collecting nvidia-cublas-cu12==12.4.5.8 (from torch>=2.3.0->torchtext)\n",
            "  Downloading nvidia_cublas_cu12-12.4.5.8-py3-none-manylinux2014_x86_64.whl.metadata (1.5 kB)\n",
            "Collecting nvidia-cufft-cu12==11.2.1.3 (from torch>=2.3.0->torchtext)\n",
            "  Downloading nvidia_cufft_cu12-11.2.1.3-py3-none-manylinux2014_x86_64.whl.metadata (1.5 kB)\n",
            "Collecting nvidia-curand-cu12==10.3.5.147 (from torch>=2.3.0->torchtext)\n",
            "  Downloading nvidia_curand_cu12-10.3.5.147-py3-none-manylinux2014_x86_64.whl.metadata (1.5 kB)\n",
            "Collecting nvidia-cusolver-cu12==11.6.1.9 (from torch>=2.3.0->torchtext)\n",
            "  Downloading nvidia_cusolver_cu12-11.6.1.9-py3-none-manylinux2014_x86_64.whl.metadata (1.6 kB)\n",
            "Collecting nvidia-cusparse-cu12==12.3.1.170 (from torch>=2.3.0->torchtext)\n",
            "  Downloading nvidia_cusparse_cu12-12.3.1.170-py3-none-manylinux2014_x86_64.whl.metadata (1.6 kB)\n",
            "Requirement already satisfied: nvidia-cusparselt-cu12==0.6.2 in /usr/local/lib/python3.11/dist-packages (from torch>=2.3.0->torchtext) (0.6.2)\n",
            "Requirement already satisfied: nvidia-nccl-cu12==2.21.5 in /usr/local/lib/python3.11/dist-packages (from torch>=2.3.0->torchtext) (2.21.5)\n",
            "Requirement already satisfied: nvidia-nvtx-cu12==12.4.127 in /usr/local/lib/python3.11/dist-packages (from torch>=2.3.0->torchtext) (12.4.127)\n",
            "Collecting nvidia-nvjitlink-cu12==12.4.127 (from torch>=2.3.0->torchtext)\n",
            "  Downloading nvidia_nvjitlink_cu12-12.4.127-py3-none-manylinux2014_x86_64.whl.metadata (1.5 kB)\n",
            "Requirement already satisfied: triton==3.2.0 in /usr/local/lib/python3.11/dist-packages (from torch>=2.3.0->torchtext) (3.2.0)\n",
            "Requirement already satisfied: sympy==1.13.1 in /usr/local/lib/python3.11/dist-packages (from torch>=2.3.0->torchtext) (1.13.1)\n",
            "Requirement already satisfied: mpmath<1.4,>=1.1.0 in /usr/local/lib/python3.11/dist-packages (from sympy==1.13.1->torch>=2.3.0->torchtext) (1.3.0)\n",
            "Requirement already satisfied: charset-normalizer<4,>=2 in /usr/local/lib/python3.11/dist-packages (from requests->torchtext) (3.4.1)\n",
            "Requirement already satisfied: idna<4,>=2.5 in /usr/local/lib/python3.11/dist-packages (from requests->torchtext) (3.10)\n",
            "Requirement already satisfied: urllib3<3,>=1.21.1 in /usr/local/lib/python3.11/dist-packages (from requests->torchtext) (2.4.0)\n",
            "Requirement already satisfied: certifi>=2017.4.17 in /usr/local/lib/python3.11/dist-packages (from requests->torchtext) (2025.4.26)\n",
            "Requirement already satisfied: MarkupSafe>=2.0 in /usr/local/lib/python3.11/dist-packages (from jinja2->torch>=2.3.0->torchtext) (3.0.2)\n",
            "Downloading torchtext-0.18.0-cp311-cp311-manylinux1_x86_64.whl (2.0 MB)\n",
            "\u001b[2K   \u001b[90m━━━━━━━━━━━━━━━━━━━━━━━━━━━━━━━━━━━━━━━━\u001b[0m \u001b[32m2.0/2.0 MB\u001b[0m \u001b[31m66.9 MB/s\u001b[0m eta \u001b[36m0:00:00\u001b[0m\n",
            "\u001b[?25hDownloading nvidia_cublas_cu12-12.4.5.8-py3-none-manylinux2014_x86_64.whl (363.4 MB)\n",
            "\u001b[2K   \u001b[90m━━━━━━━━━━━━━━━━━━━━━━━━━━━━━━━━━━━━━━━━\u001b[0m \u001b[32m363.4/363.4 MB\u001b[0m \u001b[31m5.3 MB/s\u001b[0m eta \u001b[36m0:00:00\u001b[0m\n",
            "\u001b[?25hDownloading nvidia_cuda_cupti_cu12-12.4.127-py3-none-manylinux2014_x86_64.whl (13.8 MB)\n",
            "\u001b[2K   \u001b[90m━━━━━━━━━━━━━━━━━━━━━━━━━━━━━━━━━━━━━━━━\u001b[0m \u001b[32m13.8/13.8 MB\u001b[0m \u001b[31m130.3 MB/s\u001b[0m eta \u001b[36m0:00:00\u001b[0m\n",
            "\u001b[?25hDownloading nvidia_cuda_nvrtc_cu12-12.4.127-py3-none-manylinux2014_x86_64.whl (24.6 MB)\n",
            "\u001b[2K   \u001b[90m━━━━━━━━━━━━━━━━━━━━━━━━━━━━━━━━━━━━━━━━\u001b[0m \u001b[32m24.6/24.6 MB\u001b[0m \u001b[31m100.2 MB/s\u001b[0m eta \u001b[36m0:00:00\u001b[0m\n",
            "\u001b[?25hDownloading nvidia_cuda_runtime_cu12-12.4.127-py3-none-manylinux2014_x86_64.whl (883 kB)\n",
            "\u001b[2K   \u001b[90m━━━━━━━━━━━━━━━━━━━━━━━━━━━━━━━━━━━━━━━━\u001b[0m \u001b[32m883.7/883.7 kB\u001b[0m \u001b[31m62.3 MB/s\u001b[0m eta \u001b[36m0:00:00\u001b[0m\n",
            "\u001b[?25hDownloading nvidia_cudnn_cu12-9.1.0.70-py3-none-manylinux2014_x86_64.whl (664.8 MB)\n",
            "\u001b[2K   \u001b[90m━━━━━━━━━━━━━━━━━━━━━━━━━━━━━━━━━━━━━━━\u001b[0m \u001b[32m664.8/664.8 MB\u001b[0m \u001b[31m777.9 kB/s\u001b[0m eta \u001b[36m0:00:00\u001b[0m\n",
            "\u001b[?25hDownloading nvidia_cufft_cu12-11.2.1.3-py3-none-manylinux2014_x86_64.whl (211.5 MB)\n",
            "\u001b[2K   \u001b[90m━━━━━━━━━━━━━━━━━━━━━━━━━━━━━━━━━━━━━━━━\u001b[0m \u001b[32m211.5/211.5 MB\u001b[0m \u001b[31m6.4 MB/s\u001b[0m eta \u001b[36m0:00:00\u001b[0m\n",
            "\u001b[?25hDownloading nvidia_curand_cu12-10.3.5.147-py3-none-manylinux2014_x86_64.whl (56.3 MB)\n",
            "\u001b[2K   \u001b[90m━━━━━━━━━━━━━━━━━━━━━━━━━━━━━━━━━━━━━━━━\u001b[0m \u001b[32m56.3/56.3 MB\u001b[0m \u001b[31m14.7 MB/s\u001b[0m eta \u001b[36m0:00:00\u001b[0m\n",
            "\u001b[?25hDownloading nvidia_cusolver_cu12-11.6.1.9-py3-none-manylinux2014_x86_64.whl (127.9 MB)\n",
            "\u001b[2K   \u001b[90m━━━━━━━━━━━━━━━━━━━━━━━━━━━━━━━━━━━━━━━━\u001b[0m \u001b[32m127.9/127.9 MB\u001b[0m \u001b[31m8.2 MB/s\u001b[0m eta \u001b[36m0:00:00\u001b[0m\n",
            "\u001b[?25hDownloading nvidia_cusparse_cu12-12.3.1.170-py3-none-manylinux2014_x86_64.whl (207.5 MB)\n",
            "\u001b[2K   \u001b[90m━━━━━━━━━━━━━━━━━━━━━━━━━━━━━━━━━━━━━━━━\u001b[0m \u001b[32m207.5/207.5 MB\u001b[0m \u001b[31m6.7 MB/s\u001b[0m eta \u001b[36m0:00:00\u001b[0m\n",
            "\u001b[?25hDownloading nvidia_nvjitlink_cu12-12.4.127-py3-none-manylinux2014_x86_64.whl (21.1 MB)\n",
            "\u001b[2K   \u001b[90m━━━━━━━━━━━━━━━━━━━━━━━━━━━━━━━━━━━━━━━━\u001b[0m \u001b[32m21.1/21.1 MB\u001b[0m \u001b[31m88.1 MB/s\u001b[0m eta \u001b[36m0:00:00\u001b[0m\n",
            "\u001b[?25hInstalling collected packages: nvidia-nvjitlink-cu12, nvidia-curand-cu12, nvidia-cufft-cu12, nvidia-cuda-runtime-cu12, nvidia-cuda-nvrtc-cu12, nvidia-cuda-cupti-cu12, nvidia-cublas-cu12, nvidia-cusparse-cu12, nvidia-cudnn-cu12, nvidia-cusolver-cu12, torchtext\n",
            "  Attempting uninstall: nvidia-nvjitlink-cu12\n",
            "    Found existing installation: nvidia-nvjitlink-cu12 12.5.82\n",
            "    Uninstalling nvidia-nvjitlink-cu12-12.5.82:\n",
            "      Successfully uninstalled nvidia-nvjitlink-cu12-12.5.82\n",
            "  Attempting uninstall: nvidia-curand-cu12\n",
            "    Found existing installation: nvidia-curand-cu12 10.3.6.82\n",
            "    Uninstalling nvidia-curand-cu12-10.3.6.82:\n",
            "      Successfully uninstalled nvidia-curand-cu12-10.3.6.82\n",
            "  Attempting uninstall: nvidia-cufft-cu12\n",
            "    Found existing installation: nvidia-cufft-cu12 11.2.3.61\n",
            "    Uninstalling nvidia-cufft-cu12-11.2.3.61:\n",
            "      Successfully uninstalled nvidia-cufft-cu12-11.2.3.61\n",
            "  Attempting uninstall: nvidia-cuda-runtime-cu12\n",
            "    Found existing installation: nvidia-cuda-runtime-cu12 12.5.82\n",
            "    Uninstalling nvidia-cuda-runtime-cu12-12.5.82:\n",
            "      Successfully uninstalled nvidia-cuda-runtime-cu12-12.5.82\n",
            "  Attempting uninstall: nvidia-cuda-nvrtc-cu12\n",
            "    Found existing installation: nvidia-cuda-nvrtc-cu12 12.5.82\n",
            "    Uninstalling nvidia-cuda-nvrtc-cu12-12.5.82:\n",
            "      Successfully uninstalled nvidia-cuda-nvrtc-cu12-12.5.82\n",
            "  Attempting uninstall: nvidia-cuda-cupti-cu12\n",
            "    Found existing installation: nvidia-cuda-cupti-cu12 12.5.82\n",
            "    Uninstalling nvidia-cuda-cupti-cu12-12.5.82:\n",
            "      Successfully uninstalled nvidia-cuda-cupti-cu12-12.5.82\n",
            "  Attempting uninstall: nvidia-cublas-cu12\n",
            "    Found existing installation: nvidia-cublas-cu12 12.5.3.2\n",
            "    Uninstalling nvidia-cublas-cu12-12.5.3.2:\n",
            "      Successfully uninstalled nvidia-cublas-cu12-12.5.3.2\n",
            "  Attempting uninstall: nvidia-cusparse-cu12\n",
            "    Found existing installation: nvidia-cusparse-cu12 12.5.1.3\n",
            "    Uninstalling nvidia-cusparse-cu12-12.5.1.3:\n",
            "      Successfully uninstalled nvidia-cusparse-cu12-12.5.1.3\n",
            "  Attempting uninstall: nvidia-cudnn-cu12\n",
            "    Found existing installation: nvidia-cudnn-cu12 9.3.0.75\n",
            "    Uninstalling nvidia-cudnn-cu12-9.3.0.75:\n",
            "      Successfully uninstalled nvidia-cudnn-cu12-9.3.0.75\n",
            "  Attempting uninstall: nvidia-cusolver-cu12\n",
            "    Found existing installation: nvidia-cusolver-cu12 11.6.3.83\n",
            "    Uninstalling nvidia-cusolver-cu12-11.6.3.83:\n",
            "      Successfully uninstalled nvidia-cusolver-cu12-11.6.3.83\n",
            "Successfully installed nvidia-cublas-cu12-12.4.5.8 nvidia-cuda-cupti-cu12-12.4.127 nvidia-cuda-nvrtc-cu12-12.4.127 nvidia-cuda-runtime-cu12-12.4.127 nvidia-cudnn-cu12-9.1.0.70 nvidia-cufft-cu12-11.2.1.3 nvidia-curand-cu12-10.3.5.147 nvidia-cusolver-cu12-11.6.1.9 nvidia-cusparse-cu12-12.3.1.170 nvidia-nvjitlink-cu12-12.4.127 torchtext-0.18.0\n"
          ]
        },
        {
          "output_type": "display_data",
          "data": {
            "application/vnd.colab-display-data+json": {
              "pip_warning": {
                "packages": [
                  "nvidia"
                ]
              },
              "id": "fff4ad4e09ee4948871cbee7a4086d15"
            }
          },
          "metadata": {}
        },
        {
          "output_type": "stream",
          "name": "stdout",
          "text": [
            "Requirement already satisfied: nltk in /usr/local/lib/python3.11/dist-packages (3.9.1)\n",
            "Requirement already satisfied: click in /usr/local/lib/python3.11/dist-packages (from nltk) (8.1.8)\n",
            "Requirement already satisfied: joblib in /usr/local/lib/python3.11/dist-packages (from nltk) (1.4.2)\n",
            "Requirement already satisfied: regex>=2021.8.3 in /usr/local/lib/python3.11/dist-packages (from nltk) (2024.11.6)\n",
            "Requirement already satisfied: tqdm in /usr/local/lib/python3.11/dist-packages (from nltk) (4.67.1)\n"
          ]
        }
      ]
    },
    {
      "cell_type": "code",
      "source": [
        "# Importing necessary libraries from NLTK for calculating BLEU score\n",
        "import nltk\n",
        "from nltk.translate.bleu_score import sentence_bleu, corpus_bleu  # Import BLEU score calculation functions\n",
        "\n",
        "# Download tokenizer resources if needed (used by nltk for tokenization)\n",
        "nltk.download('punkt')  # This ensures the necessary tokenizer resources are downloaded\n",
        "\n",
        "# Example BLEU score usage\n",
        "# The reference is a list of lists, where each inner list represents a set of one or more reference translations\n",
        "reference = [['hi', 'how', 'are', 'you']]  # The true or reference translation(s) of the sentence\n",
        "# The candidate is a list that contains the predicted translation from the model\n",
        "candidate = ['hi', 'how', 'are', 'you']  # The predicted translation from the model\n",
        "\n",
        "# Calculate the BLEU score for the candidate against the reference\n",
        "# sentence_bleu takes in the reference and candidate as inputs and calculates the BLEU score for the sentence\n",
        "print(\"BLEU score:\", sentence_bleu(reference, candidate))  # Prints the BLEU score for the candidate translation"
      ],
      "metadata": {
        "colab": {
          "base_uri": "https://localhost:8080/"
        },
        "id": "yxaZOpiwetB7",
        "outputId": "893f9f07-eb55-4bd0-d4f1-643cbe074112"
      },
      "execution_count": null,
      "outputs": [
        {
          "output_type": "stream",
          "name": "stderr",
          "text": [
            "[nltk_data] Downloading package punkt to /root/nltk_data...\n",
            "[nltk_data]   Unzipping tokenizers/punkt.zip.\n"
          ]
        },
        {
          "output_type": "stream",
          "name": "stdout",
          "text": [
            "BLEU score: 1.0\n"
          ]
        }
      ]
    },
    {
      "cell_type": "code",
      "source": [
        "# Define the references and candidates\n",
        "# References are lists of lists, where each inner list is a set of one or more valid translations for a sentence\n",
        "# In this case, for the sentence \"hello there\", we have two possible reference translations: \"hello there\" and \"hi there\"\n",
        "references = [[['hello', 'there'], ['hi', 'there']]]  # List of reference translations for the sentence\n",
        "\n",
        "# Candidates are the predicted translations by the model\n",
        "# Here, the model predicted the translation \"hello there\"\n",
        "candidates = [['hello', 'there']]  # List of model's predicted translations\n",
        "\n",
        "# Calculate the BLEU score for the entire corpus (all sentences) using the corpus_bleu function\n",
        "# corpus_bleu compares a list of reference translations to a list of predicted translations (i.e., candidates) for multiple sentences\n",
        "# In this case, we have one sentence in the corpus\n",
        "score = corpus_bleu(references, candidates)  # Calculating BLEU score for the corpus\n",
        "\n",
        "# Print the BLEU score for the corpus (it tells how similar the candidates are to the reference translations)\n",
        "print(\"Corpus BLEU:\", score)  # Output the BLEU score for the corpus"
      ],
      "metadata": {
        "colab": {
          "base_uri": "https://localhost:8080/"
        },
        "id": "VXskDWuue6iV",
        "outputId": "7014d14a-8329-427a-a033-89e870164d95"
      },
      "execution_count": null,
      "outputs": [
        {
          "output_type": "stream",
          "name": "stdout",
          "text": [
            "Corpus BLEU: 1.491668146240062e-154\n"
          ]
        },
        {
          "output_type": "stream",
          "name": "stderr",
          "text": [
            "/usr/local/lib/python3.11/dist-packages/nltk/translate/bleu_score.py:577: UserWarning: \n",
            "The hypothesis contains 0 counts of 3-gram overlaps.\n",
            "Therefore the BLEU score evaluates to 0, independently of\n",
            "how many N-gram overlaps of lower order it contains.\n",
            "Consider using lower n-gram order or use SmoothingFunction()\n",
            "  warnings.warn(_msg)\n",
            "/usr/local/lib/python3.11/dist-packages/nltk/translate/bleu_score.py:577: UserWarning: \n",
            "The hypothesis contains 0 counts of 4-gram overlaps.\n",
            "Therefore the BLEU score evaluates to 0, independently of\n",
            "how many N-gram overlaps of lower order it contains.\n",
            "Consider using lower n-gram order or use SmoothingFunction()\n",
            "  warnings.warn(_msg)\n"
          ]
        }
      ]
    },
    {
      "cell_type": "code",
      "source": [
        "# Import necessary libraries for plotting\n",
        "import matplotlib.pyplot as plt  # Matplotlib is used for creating static, animated, and interactive visualizations\n",
        "import seaborn as sns  # Seaborn is built on top of Matplotlib and provides a high-level interface for drawing attractive statistical graphics\n",
        "\n",
        "# Function to display attention heatmap\n",
        "def display_attention(sentence, translation, attention):\n",
        "    \"\"\"\n",
        "    Parameters:\n",
        "    - sentence (list): List of words in the source sentence (the input to the model)\n",
        "    - translation (list): List of words in the predicted translation (the model output)\n",
        "    - attention (2D array or tensor): Attention weights (a matrix representing the attention between source and target words)\n",
        "    \"\"\"\n",
        "    # Create a figure with a size of 10x10 inches\n",
        "    fig = plt.figure(figsize=(10,10))  # This sets the dimensions of the figure (plot area) for the heatmap\n",
        "\n",
        "    # Create the heatmap using Seaborn, which will show the attention scores\n",
        "    # `attention` is a 2D matrix where each element represents the attention score between a word in the source sentence\n",
        "    # and a word in the predicted sentence. The `xticklabels` and `yticklabels` will be the words from the source and predicted sentences.\n",
        "    sns.heatmap(attention, xticklabels=sentence, yticklabels=translation, cmap='viridis')\n",
        "\n",
        "    # Label the x-axis as 'Source Sentence', indicating that it represents words from the source sentence\n",
        "    plt.xlabel('Source Sentence')\n",
        "\n",
        "    # Label the y-axis as 'Predicted Sentence', indicating that it represents words from the model's output sentence\n",
        "    plt.ylabel('Predicted Sentence')\n",
        "\n",
        "    # Display the plot (this is necessary for showing the heatmap)\n",
        "    plt.show()"
      ],
      "metadata": {
        "id": "lG2gqLNce7NK"
      },
      "execution_count": null,
      "outputs": []
    },
    {
      "cell_type": "code",
      "source": [
        "# Import necessary libraries\n",
        "from nltk.translate.meteor_score import meteor_score  # METEOR score calculation function\n",
        "from nltk.translate.bleu_score import sentence_bleu  # BLEU score calculation function\n",
        "from rouge_score import rouge_scorer  # ROUGE score calculation function\n",
        "\n",
        "# Function to compute BLEU, ROUGE, and METEOR scores\n",
        "def compute_metrics(reference, candidate):\n",
        "    \"\"\"\n",
        "    Computes the BLEU, ROUGE-1, ROUGE-L, and METEOR scores between the reference and candidate translations.\n",
        "\n",
        "    Parameters:\n",
        "    - reference (list): List of words in the reference sentence (true target sentence)\n",
        "    - candidate (list): List of words in the candidate sentence (model's prediction)\n",
        "\n",
        "    Returns:\n",
        "    - Dictionary containing the BLEU, ROUGE-1, ROUGE-L, and METEOR scores.\n",
        "    \"\"\"\n",
        "\n",
        "    # BLEU Score Calculation\n",
        "    bleu = sentence_bleu([reference], candidate)  # Compute BLEU score (uses precision of n-grams)\n",
        "    # [reference] is passed as a list of lists since the `sentence_bleu` function expects a list of references\n",
        "\n",
        "    # ROUGE Score Calculation\n",
        "    scorer = rouge_scorer.RougeScorer(['rouge1', 'rougeL'], use_stemmer=True)  # Initialize ROUGE scorer with ROUGE-1 and ROUGE-L metrics\n",
        "    # use_stemmer=True applies stemming to words (e.g., \"running\" and \"run\" are treated the same)\n",
        "    rouge_scores = scorer.score(' '.join(reference), ' '.join(candidate))  # Compute ROUGE score by joining words into a sentence string\n",
        "\n",
        "    # METEOR Score Calculation\n",
        "    meteor = meteor_score([reference], candidate)  # Compute METEOR score (measures precision, recall, synonymy, etc.)\n",
        "\n",
        "    # Return the computed scores in a dictionary\n",
        "    return {\n",
        "        'BLEU': bleu,  # BLEU score for n-gram precision\n",
        "        'ROUGE-1': rouge_scores['rouge1'].fmeasure,  # ROUGE-1 F1 score\n",
        "        'ROUGE-L': rouge_scores['rougeL'].fmeasure,  # ROUGE-L F1 score (longest common subsequence)\n",
        "        'METEOR': meteor  # METEOR score (combines precision, recall, synonymy, and stemming)\n",
        "    }\n",
        "\n",
        "# Example usage\n",
        "ref = ['hello', 'how', 'are', 'you']  # Reference sentence (true target)\n",
        "cand = ['hello', 'how', 'are', 'you']  # Candidate sentence (model's prediction)\n",
        "print(compute_metrics(ref, cand))  # Call the function and print the computed metrics"
      ],
      "metadata": {
        "colab": {
          "base_uri": "https://localhost:8080/"
        },
        "id": "BmCmN_X5fDps",
        "outputId": "d8186166-3c4a-40ee-b175-8646fd0af617"
      },
      "execution_count": null,
      "outputs": [
        {
          "output_type": "stream",
          "name": "stdout",
          "text": [
            "{'BLEU': 1.0, 'ROUGE-1': 1.0, 'ROUGE-L': 1.0, 'METEOR': 0.9921875}\n"
          ]
        }
      ]
    },
    {
      "cell_type": "markdown",
      "source": [
        "## Self Attention"
      ],
      "metadata": {
        "id": "lMapLZbnfubr"
      }
    },
    {
      "cell_type": "code",
      "source": [
        "# Import necessary libraries\n",
        "import tensorflow as tf  # TensorFlow library for deep learning\n",
        "from tensorflow.keras.preprocessing.text import Tokenizer  # For converting text to sequences\n",
        "from tensorflow.keras.preprocessing.sequence import pad_sequences  # For padding sequences to fixed length\n",
        "from tensorflow.keras.models import Model  # For creating Keras models\n",
        "from tensorflow.keras.layers import Input, Embedding, Dense, LayerNormalization, Dropout  # Keras layers to build the model\n",
        "from tensorflow.keras.layers import Layer  # For creating custom layers\n",
        "from tensorflow.keras.layers import Lambda  # For custom Lambda layers in Keras\n",
        "import numpy as np  # NumPy for array manipulation\n",
        "\n",
        "# Prepare data: Get sample inputs from train_df\n",
        "texts = train_df['dialog'].astype(str).tolist()[:1000]  # Get the 'dialog' column from train_df, convert to list and take the first 1000 examples\n",
        "\n",
        "# Tokenize\n",
        "tokenizer = Tokenizer()  # Initialize the Tokenizer to process text and convert words to integer indices\n",
        "tokenizer.fit_on_texts(texts)  # Fit the tokenizer on the text data to create a word index based on frequency\n",
        "sequences = tokenizer.texts_to_sequences(texts)  # Convert each text in 'texts' to a sequence of integers (word indices)\n",
        "padded = pad_sequences(sequences, padding='post')  # Pad sequences to the same length (post-padding), ensuring uniform input size\n",
        "vocab_size = len(tokenizer.word_index) + 1  # The size of the vocabulary, including padding (add 1 to account for the padding token)\n",
        "\n",
        "# Custom Self-Attention Layer\n",
        "class SelfAttention(Layer):\n",
        "    \"\"\"\n",
        "    Custom self-attention mechanism that computes attention scores and applies them to the input sequence.\n",
        "\n",
        "    Parameters:\n",
        "    - units (int): The number of units (dimensions) of the output attention layer.\n",
        "    \"\"\"\n",
        "    def __init__(self, units):\n",
        "        super(SelfAttention, self).__init__()  # Initialize the base Layer class\n",
        "        self.units = units  # Set the number of units for the attention output\n",
        "        self.Wq = Dense(units)  # Dense layer to compute query vectors\n",
        "        self.Wk = Dense(units)  # Dense layer to compute key vectors\n",
        "        self.Wv = Dense(units)  # Dense layer to compute value vectors\n",
        "\n",
        "    def call(self, inputs):\n",
        "        \"\"\"\n",
        "        Perform the forward pass of the self-attention mechanism.\n",
        "\n",
        "        Parameters:\n",
        "        - inputs (Tensor): The input tensor to the attention layer (batch_size, sequence_length, embedding_dim).\n",
        "\n",
        "        Returns:\n",
        "        - output (Tensor): The output tensor after applying attention (batch_size, sequence_length, units).\n",
        "        \"\"\"\n",
        "        Q = self.Wq(inputs)  # Compute query vectors (Q)\n",
        "        K = self.Wk(inputs)  # Compute key vectors (K)\n",
        "        V = self.Wv(inputs)  # Compute value vectors (V)\n",
        "\n",
        "        # Compute attention scores using the dot product of Q and K (scaled by sqrt(units))\n",
        "        scores = tf.matmul(Q, K, transpose_b=True) / tf.math.sqrt(tf.cast(self.units, tf.float32))\n",
        "\n",
        "        # Apply softmax to the scores to obtain the attention weights\n",
        "        weights = tf.nn.softmax(scores, axis=-1)  # Softmax normalization along the last axis (sequence length)\n",
        "\n",
        "        # Multiply the attention weights with the value vectors (V) to get the final output\n",
        "        output = tf.matmul(weights, V)  # Perform the weighted sum of value vectors\n",
        "\n",
        "        return output  # Return the output of the attention mechanism\n",
        "\n",
        "# Define the model\n",
        "input_layer = Input(shape=(padded.shape[1],))  # Define the input layer with shape (sequence_length,). Padded sequence length is padded.shape[1].\n",
        "embedding_layer = Embedding(input_dim=vocab_size, output_dim=64)(input_layer)  # Embedding layer that maps each word index to a 64-dimensional vector\n",
        "\n",
        "# Apply the custom self-attention layer to the embedding output\n",
        "attention_output = SelfAttention(64)(embedding_layer)  # Self-attention with 64 units applied to the embedding output\n",
        "\n",
        "# Apply a Lambda layer to pool the attention output across the sequence (average the sequence dimensions)\n",
        "pooled = Lambda(lambda x: tf.reduce_mean(x, axis=1))(attention_output)  # Compute the mean over the sequence dimension (axis=1)\n",
        "\n",
        "# Define the output layer for binary classification (sigmoid activation for 0/1 output)\n",
        "output_layer = Dense(1, activation='sigmoid')(pooled)  # Output layer with one unit and sigmoid activation for binary classification\n",
        "\n",
        "# Create the model by specifying input and output layers\n",
        "model = Model(inputs=input_layer, outputs=output_layer)\n",
        "\n",
        "# Compile the model with Adam optimizer and binary cross-entropy loss function\n",
        "model.compile(optimizer='adam', loss='binary_crossentropy')\n",
        "\n",
        "# Display the model summary to show the architecture of the model\n",
        "model.summary()"
      ],
      "metadata": {
        "colab": {
          "base_uri": "https://localhost:8080/",
          "height": 289
        },
        "id": "C3ymkUqcf0uh",
        "outputId": "8a6440d1-8496-47cb-81cb-aa0c8a167fc3"
      },
      "execution_count": null,
      "outputs": [
        {
          "output_type": "display_data",
          "data": {
            "text/plain": [
              "\u001b[1mModel: \"functional_2\"\u001b[0m\n"
            ],
            "text/html": [
              "<pre style=\"white-space:pre;overflow-x:auto;line-height:normal;font-family:Menlo,'DejaVu Sans Mono',consolas,'Courier New',monospace\"><span style=\"font-weight: bold\">Model: \"functional_2\"</span>\n",
              "</pre>\n"
            ]
          },
          "metadata": {}
        },
        {
          "output_type": "display_data",
          "data": {
            "text/plain": [
              "┏━━━━━━━━━━━━━━━━━━━━━━━━━━━━━━━━━┳━━━━━━━━━━━━━━━━━━━━━━━━┳━━━━━━━━━━━━━━━┓\n",
              "┃\u001b[1m \u001b[0m\u001b[1mLayer (type)                   \u001b[0m\u001b[1m \u001b[0m┃\u001b[1m \u001b[0m\u001b[1mOutput Shape          \u001b[0m\u001b[1m \u001b[0m┃\u001b[1m \u001b[0m\u001b[1m      Param #\u001b[0m\u001b[1m \u001b[0m┃\n",
              "┡━━━━━━━━━━━━━━━━━━━━━━━━━━━━━━━━━╇━━━━━━━━━━━━━━━━━━━━━━━━╇━━━━━━━━━━━━━━━┩\n",
              "│ input_layer_4 (\u001b[38;5;33mInputLayer\u001b[0m)      │ (\u001b[38;5;45mNone\u001b[0m, \u001b[38;5;34m621\u001b[0m)            │             \u001b[38;5;34m0\u001b[0m │\n",
              "├─────────────────────────────────┼────────────────────────┼───────────────┤\n",
              "│ embedding_4 (\u001b[38;5;33mEmbedding\u001b[0m)         │ (\u001b[38;5;45mNone\u001b[0m, \u001b[38;5;34m621\u001b[0m, \u001b[38;5;34m64\u001b[0m)        │       \u001b[38;5;34m393,984\u001b[0m │\n",
              "├─────────────────────────────────┼────────────────────────┼───────────────┤\n",
              "│ self_attention (\u001b[38;5;33mSelfAttention\u001b[0m)  │ (\u001b[38;5;45mNone\u001b[0m, \u001b[38;5;34m621\u001b[0m, \u001b[38;5;34m64\u001b[0m)        │        \u001b[38;5;34m12,480\u001b[0m │\n",
              "├─────────────────────────────────┼────────────────────────┼───────────────┤\n",
              "│ lambda (\u001b[38;5;33mLambda\u001b[0m)                 │ (\u001b[38;5;45mNone\u001b[0m, \u001b[38;5;34m64\u001b[0m)             │             \u001b[38;5;34m0\u001b[0m │\n",
              "├─────────────────────────────────┼────────────────────────┼───────────────┤\n",
              "│ dense_5 (\u001b[38;5;33mDense\u001b[0m)                 │ (\u001b[38;5;45mNone\u001b[0m, \u001b[38;5;34m1\u001b[0m)              │            \u001b[38;5;34m65\u001b[0m │\n",
              "└─────────────────────────────────┴────────────────────────┴───────────────┘\n"
            ],
            "text/html": [
              "<pre style=\"white-space:pre;overflow-x:auto;line-height:normal;font-family:Menlo,'DejaVu Sans Mono',consolas,'Courier New',monospace\">┏━━━━━━━━━━━━━━━━━━━━━━━━━━━━━━━━━┳━━━━━━━━━━━━━━━━━━━━━━━━┳━━━━━━━━━━━━━━━┓\n",
              "┃<span style=\"font-weight: bold\"> Layer (type)                    </span>┃<span style=\"font-weight: bold\"> Output Shape           </span>┃<span style=\"font-weight: bold\">       Param # </span>┃\n",
              "┡━━━━━━━━━━━━━━━━━━━━━━━━━━━━━━━━━╇━━━━━━━━━━━━━━━━━━━━━━━━╇━━━━━━━━━━━━━━━┩\n",
              "│ input_layer_4 (<span style=\"color: #0087ff; text-decoration-color: #0087ff\">InputLayer</span>)      │ (<span style=\"color: #00d7ff; text-decoration-color: #00d7ff\">None</span>, <span style=\"color: #00af00; text-decoration-color: #00af00\">621</span>)            │             <span style=\"color: #00af00; text-decoration-color: #00af00\">0</span> │\n",
              "├─────────────────────────────────┼────────────────────────┼───────────────┤\n",
              "│ embedding_4 (<span style=\"color: #0087ff; text-decoration-color: #0087ff\">Embedding</span>)         │ (<span style=\"color: #00d7ff; text-decoration-color: #00d7ff\">None</span>, <span style=\"color: #00af00; text-decoration-color: #00af00\">621</span>, <span style=\"color: #00af00; text-decoration-color: #00af00\">64</span>)        │       <span style=\"color: #00af00; text-decoration-color: #00af00\">393,984</span> │\n",
              "├─────────────────────────────────┼────────────────────────┼───────────────┤\n",
              "│ self_attention (<span style=\"color: #0087ff; text-decoration-color: #0087ff\">SelfAttention</span>)  │ (<span style=\"color: #00d7ff; text-decoration-color: #00d7ff\">None</span>, <span style=\"color: #00af00; text-decoration-color: #00af00\">621</span>, <span style=\"color: #00af00; text-decoration-color: #00af00\">64</span>)        │        <span style=\"color: #00af00; text-decoration-color: #00af00\">12,480</span> │\n",
              "├─────────────────────────────────┼────────────────────────┼───────────────┤\n",
              "│ lambda (<span style=\"color: #0087ff; text-decoration-color: #0087ff\">Lambda</span>)                 │ (<span style=\"color: #00d7ff; text-decoration-color: #00d7ff\">None</span>, <span style=\"color: #00af00; text-decoration-color: #00af00\">64</span>)             │             <span style=\"color: #00af00; text-decoration-color: #00af00\">0</span> │\n",
              "├─────────────────────────────────┼────────────────────────┼───────────────┤\n",
              "│ dense_5 (<span style=\"color: #0087ff; text-decoration-color: #0087ff\">Dense</span>)                 │ (<span style=\"color: #00d7ff; text-decoration-color: #00d7ff\">None</span>, <span style=\"color: #00af00; text-decoration-color: #00af00\">1</span>)              │            <span style=\"color: #00af00; text-decoration-color: #00af00\">65</span> │\n",
              "└─────────────────────────────────┴────────────────────────┴───────────────┘\n",
              "</pre>\n"
            ]
          },
          "metadata": {}
        },
        {
          "output_type": "display_data",
          "data": {
            "text/plain": [
              "\u001b[1m Total params: \u001b[0m\u001b[38;5;34m406,529\u001b[0m (1.55 MB)\n"
            ],
            "text/html": [
              "<pre style=\"white-space:pre;overflow-x:auto;line-height:normal;font-family:Menlo,'DejaVu Sans Mono',consolas,'Courier New',monospace\"><span style=\"font-weight: bold\"> Total params: </span><span style=\"color: #00af00; text-decoration-color: #00af00\">406,529</span> (1.55 MB)\n",
              "</pre>\n"
            ]
          },
          "metadata": {}
        },
        {
          "output_type": "display_data",
          "data": {
            "text/plain": [
              "\u001b[1m Trainable params: \u001b[0m\u001b[38;5;34m406,529\u001b[0m (1.55 MB)\n"
            ],
            "text/html": [
              "<pre style=\"white-space:pre;overflow-x:auto;line-height:normal;font-family:Menlo,'DejaVu Sans Mono',consolas,'Courier New',monospace\"><span style=\"font-weight: bold\"> Trainable params: </span><span style=\"color: #00af00; text-decoration-color: #00af00\">406,529</span> (1.55 MB)\n",
              "</pre>\n"
            ]
          },
          "metadata": {}
        },
        {
          "output_type": "display_data",
          "data": {
            "text/plain": [
              "\u001b[1m Non-trainable params: \u001b[0m\u001b[38;5;34m0\u001b[0m (0.00 B)\n"
            ],
            "text/html": [
              "<pre style=\"white-space:pre;overflow-x:auto;line-height:normal;font-family:Menlo,'DejaVu Sans Mono',consolas,'Courier New',monospace\"><span style=\"font-weight: bold\"> Non-trainable params: </span><span style=\"color: #00af00; text-decoration-color: #00af00\">0</span> (0.00 B)\n",
              "</pre>\n"
            ]
          },
          "metadata": {}
        }
      ]
    },
    {
      "cell_type": "code",
      "source": [
        "# Import necessary libraries\n",
        "import numpy as np  # NumPy for array manipulations\n",
        "import tensorflow as tf  # TensorFlow for deep learning\n",
        "from tensorflow.keras.layers import Layer, Input, Embedding, Dense  # Keras layers to build the model\n",
        "from tensorflow.keras.models import Model  # Keras model class to build a neural network model\n",
        "import matplotlib.pyplot as plt  # Matplotlib for plotting the attention heatmap\n",
        "import seaborn as sns  # Seaborn for enhanced heatmap visualizations\n",
        "\n",
        "MAX_LEN = 20  # Maximum sequence length for input data\n",
        "\n",
        "# 1. Self-Attention Layer (standalone, returns weights)\n",
        "class SelfAttention(Layer):\n",
        "    \"\"\"\n",
        "    Custom Self-Attention Layer that computes attention scores and context vectors.\n",
        "\n",
        "    Parameters:\n",
        "    - hidden_size (int): The number of units for query, key, and value vectors.\n",
        "    - return_attention (bool): Whether to return attention weights along with the context vector.\n",
        "    \"\"\"\n",
        "    def __init__(self, hidden_size, return_attention=False):\n",
        "        super(SelfAttention, self).__init__()  # Initialize the parent Layer class\n",
        "        self.hidden_size = hidden_size  # Set hidden size for query, key, and value vectors\n",
        "        self.return_attention = return_attention  # Flag to return attention weights\n",
        "\n",
        "    def build(self, input_shape):\n",
        "        \"\"\"\n",
        "        Initialize the weights for query (Q), key (K), and value (V) matrices.\n",
        "\n",
        "        Parameters:\n",
        "        - input_shape (tuple): The shape of the input tensor, excluding the batch size.\n",
        "        \"\"\"\n",
        "        # Create weights for Q, K, and V. Each weight matrix has dimensions (input_shape[-1], hidden_size)\n",
        "        self.W_q = self.add_weight(shape=(input_shape[-1], self.hidden_size), initializer='glorot_uniform', trainable=True)\n",
        "        self.W_k = self.add_weight(shape=(input_shape[-1], self.hidden_size), initializer='glorot_uniform', trainable=True)\n",
        "        self.W_v = self.add_weight(shape=(input_shape[-1], self.hidden_size), initializer='glorot_uniform', trainable=True)\n",
        "\n",
        "    def call(self, inputs):\n",
        "        \"\"\"\n",
        "        Perform the self-attention calculation.\n",
        "\n",
        "        Parameters:\n",
        "        - inputs (Tensor): Input tensor (batch_size, seq_len, input_dim).\n",
        "\n",
        "        Returns:\n",
        "        - context (Tensor): The context vector after applying attention weights to the value vectors.\n",
        "        - attention_weights (Tensor, optional): The computed attention weights (if return_attention=True).\n",
        "        \"\"\"\n",
        "        # Compute query (Q), key (K), and value (V) vectors by applying the corresponding weight matrices\n",
        "        Q = tf.matmul(inputs, self.W_q)  # (batch_size, seq_len, hidden_size)\n",
        "        K = tf.matmul(inputs, self.W_k)  # (batch_size, seq_len, hidden_size)\n",
        "        V = tf.matmul(inputs, self.W_v)  # (batch_size, seq_len, hidden_size)\n",
        "\n",
        "        # Compute attention scores using scaled dot-product attention\n",
        "        scores = tf.matmul(Q, K, transpose_b=True) / tf.math.sqrt(tf.cast(self.hidden_size, tf.float32))  # (batch_size, seq_len, seq_len)\n",
        "\n",
        "        # Apply softmax to the attention scores to get the attention weights\n",
        "        attention_weights = tf.nn.softmax(scores, axis=-1)  # (batch_size, seq_len, seq_len)\n",
        "\n",
        "        # Compute the context vector by applying the attention weights to the value vectors\n",
        "        context = tf.matmul(attention_weights, V)  # (batch_size, seq_len, hidden_size)\n",
        "\n",
        "        if self.return_attention:\n",
        "            return context, attention_weights  # Return both context and attention weights if requested\n",
        "        return context  # Return only the context vector\n",
        "\n",
        "# 2. Model Setup\n",
        "vocab_size = 1000  # The size of the vocabulary (number of unique tokens)\n",
        "embedding_dim = 64  # The dimensionality of the embedding space (each word will be represented as a 64-dimensional vector)\n",
        "seq_len = 20  # The maximum length of input sequences (fixed length)\n",
        "\n",
        "# Define the input layer with a shape corresponding to the sequence length\n",
        "inputs = Input(shape=(seq_len,))  # Input shape is (batch_size, seq_len), each sequence is a list of token IDs\n",
        "\n",
        "# Create the embedding layer that converts word indices to embedding vectors\n",
        "embedding = Embedding(vocab_size, embedding_dim)(inputs)  # Convert input token IDs into dense vectors of size embedding_dim\n",
        "\n",
        "# Apply the Self-Attention layer, specifying the hidden size and that we want to return the attention weights\n",
        "attention_layer = SelfAttention(hidden_size=64, return_attention=True)\n",
        "attention_output, attention_weights = attention_layer(embedding)  # Get both attention outputs and attention weights\n",
        "\n",
        "# Use Lambda layer to perform pooling (mean reduction) over the sequence dimension (axis=1)\n",
        "from tensorflow.keras.layers import Lambda\n",
        "pooled = Lambda(lambda x: tf.reduce_mean(x, axis=1))(attention_output)  # Reduce the sequence dimension by averaging\n",
        "\n",
        "# Define the output layer with a sigmoid activation for binary classification\n",
        "output = Dense(1, activation='sigmoid')(pooled)  # Output layer with one unit and sigmoid activation\n",
        "\n",
        "# Build the model by specifying the input and output layers\n",
        "model = Model(inputs=inputs, outputs=[output, attention_weights])  # Model that returns both the output and attention weights\n",
        "\n",
        "# Compile the model with the Adam optimizer and binary cross-entropy loss\n",
        "model.compile(optimizer='adam', loss='binary_crossentropy')\n",
        "\n",
        "# 3. Dummy data\n",
        "sample_input = np.random.randint(0, vocab_size, size=(1, seq_len))  # Create a random input sequence with shape (1, seq_len)\n",
        "_ , attention = model.predict(sample_input)  # Predict using the model, only retrieve attention weights (ignore the output)\n",
        "\n",
        "# 4. Attention Visualization\n",
        "def plot_attention(attention_weights, input_tokens):\n",
        "    \"\"\"\n",
        "    Visualizes the attention weights using a heatmap.\n",
        "\n",
        "    Parameters:\n",
        "    - attention_weights (Tensor): The attention weights from the Self-Attention layer.\n",
        "    - input_tokens (list): A list of tokens corresponding to the input sequence for labeling the heatmap axes.\n",
        "    \"\"\"\n",
        "    plt.figure(figsize=(10, 8))  # Set the figure size for the plot\n",
        "    sns.heatmap(attention_weights, xticklabels=input_tokens, yticklabels=input_tokens, cmap='viridis')  # Plot the heatmap of attention weights\n",
        "    plt.title(\"Self-Attention Weights\")  # Title of the plot\n",
        "    plt.xlabel(\"Key\")  # Label for the x-axis (keys)\n",
        "    plt.ylabel(\"Query\")  # Label for the y-axis (queries)\n",
        "    plt.show()  # Display the plot\n",
        "\n",
        "# Create a list of tokens representing the input sequence for the heatmap labels\n",
        "input_tokens = [f\"tok_{i}\" for i in range(seq_len)]  # Example tokens, e.g., tok_0, tok_1, ..., tok_19\n",
        "\n",
        "# Plot the attention weights for the given input tokens\n",
        "plot_attention(attention[0], input_tokens)  # Visualize the attention weights for the first sample input\n"
      ],
      "metadata": {
        "colab": {
          "base_uri": "https://localhost:8080/",
          "height": 768
        },
        "id": "bQ5NgXj7f07X",
        "outputId": "ed801ae0-18a3-4ce0-db61-00d826e52d4f"
      },
      "execution_count": null,
      "outputs": [
        {
          "output_type": "stream",
          "name": "stdout",
          "text": [
            "\u001b[1m1/1\u001b[0m \u001b[32m━━━━━━━━━━━━━━━━━━━━\u001b[0m\u001b[37m\u001b[0m \u001b[1m1s\u001b[0m 949ms/step\n"
          ]
        },
        {
          "output_type": "display_data",
          "data": {
            "text/plain": [
              "<Figure size 1000x800 with 2 Axes>"
            ],
            "image/png": "[encoded data removed]"
          },
          "metadata": {}
        }
      ]
    },
    {
      "cell_type": "code",
      "source": [
        "from tensorflow.keras.preprocessing.text import Tokenizer  # Import Tokenizer from Keras for text tokenization\n",
        "from tensorflow.keras.preprocessing.sequence import pad_sequences  # Import pad_sequences from Keras for padding sequences\n",
        "from sklearn.preprocessing import LabelEncoder  # Import LabelEncoder from scikit-learn to encode labels\n",
        "import re  # Import the regular expression module for string manipulation\n",
        "\n",
        "# 1. Function to parse and format the 'act' column\n",
        "def parse_act(act_str):\n",
        "    \"\"\"\n",
        "    Parses the string representation of a list of actions (acts) and ensures that commas are added\n",
        "    between numbers if missing.\n",
        "\n",
        "    Parameters:\n",
        "    - act_str (str): The string containing the list of actions, which might lack commas between numbers.\n",
        "\n",
        "    Returns:\n",
        "    - list: The parsed and formatted list of actions.\n",
        "    \"\"\"\n",
        "    act_str = re.sub(r'(?<=\\d)\\s+(?=\\d)', ', ', act_str.strip())  # Add commas between numbers if missing\n",
        "    return eval(act_str)  # Use eval to convert the string representation of the list into a Python list\n",
        "\n",
        "# 2. Tokenize dialogs\n",
        "dialogs = train_df['dialog'].apply(lambda x: ' '.join(eval(x)))  # Convert the list-like string in 'dialog' column into a proper string of words\n",
        "tokenizer = Tokenizer(oov_token='<OOV>')  # Initialize the Tokenizer with an out-of-vocabulary (OOV) token\n",
        "tokenizer.fit_on_texts(dialogs)  # Fit the tokenizer on the dialog texts to create the word index\n",
        "sequences = tokenizer.texts_to_sequences(dialogs)  # Convert each dialog into a sequence of integers based on the word index\n",
        "\n",
        "# 3. Pad sequences to fixed length\n",
        "MAX_LEN = 50  # Set the maximum length of the sequences (padding or truncating to this length)\n",
        "padded = pad_sequences(sequences, maxlen=MAX_LEN, padding='post', truncating='post')\n",
        "# Pad or truncate the sequences to a fixed length (MAX_LEN)\n",
        "# - `maxlen=MAX_LEN`: Defines the maximum length of the sequences.\n",
        "# - `padding='post'`: Pads sequences at the end.\n",
        "# - `truncating='post'`: Truncates sequences at the end if they exceed MAX_LEN.\n",
        "\n",
        "# 4. Encode labels (acts or emotions)\n",
        "label_encoder = LabelEncoder()  # Initialize LabelEncoder to encode labels (acts/emotions)\n",
        "# Apply to column and get last act\n",
        "labels = train_df['act'].apply(lambda x: parse_act(x)[-1])  # Get the last action from the list of actions in the 'act' column\n",
        "\n",
        "# 5. Function to clean and convert 'act' column into lists of integers\n",
        "def parse_act_column(act_str):\n",
        "    \"\"\"\n",
        "    Parses the 'act' column, removing brackets and splitting the string by spaces to convert it into\n",
        "    a list of integers representing actions.\n",
        "\n",
        "    Parameters:\n",
        "    - act_str (str): The string representation of a list of integers in the 'act' column.\n",
        "\n",
        "    Returns:\n",
        "    - list: The list of integers corresponding to the actions.\n",
        "    \"\"\"\n",
        "    act_str = act_str.strip(\"[]\")  # Remove brackets around the string\n",
        "    act_list = re.split(r'\\s+', act_str)  # Split the string by one or more spaces\n",
        "    return list(map(int, act_list))  # Convert each split value to an integer\n",
        "\n",
        "# 6. Apply the function to the 'act' column to get a list of actions for each entry\n",
        "train_acts = train_df['act'].apply(parse_act_column)  # Apply the parse_act_column function to the 'act' column\n",
        "\n",
        "# 7. Get the last act from each list of acts\n",
        "last_acts = train_acts.apply(lambda x: x[-1])  # For each list of acts, retrieve the last action\n",
        "\n",
        "# 8. Fit the LabelEncoder\n",
        "label_encoder = LabelEncoder()  # Initialize the LabelEncoder again (after processing)\n",
        "labels = label_encoder.fit_transform(last_acts)  # Fit the LabelEncoder on the last acts and transform them into numeric labels\n"
      ],
      "metadata": {
        "id": "1OeJXoJjf1JP"
      },
      "execution_count": null,
      "outputs": []
    },
    {
      "cell_type": "code",
      "source": [
        "from tensorflow.keras.models import Model\n",
        "from tensorflow.keras.layers import Input, Embedding, Dense, Lambda\n",
        "import tensorflow as tf\n",
        "\n",
        "class SelfAttention(tf.keras.layers.Layer):  # Create a custom Keras layer for self-attention\n",
        "    def __init__(self, units):\n",
        "        \"\"\"\n",
        "        Initialize the Self-Attention layer.\n",
        "\n",
        "        Parameters:\n",
        "        - units (int): Dimensionality of the intermediate dense layers for computing attention.\n",
        "        \"\"\"\n",
        "        super(SelfAttention, self).__init__()  # Call the base class constructor\n",
        "        self.W1 = Dense(units)  # First Dense layer for attention scoring\n",
        "        self.W2 = Dense(units)  # Second Dense layer for attention scoring\n",
        "        self.V = Dense(1)       # Output layer to generate a single attention score per word\n",
        "\n",
        "\n",
        "    def call(self, values):\n",
        "        \"\"\"\n",
        "        Forward pass for the attention mechanism.\n",
        "\n",
        "        Parameters:\n",
        "        - values (Tensor): Input embeddings of shape (batch_size, sequence_length, embedding_dim)\n",
        "\n",
        "        Returns:\n",
        "        - context_vector (Tensor): Weighted sum of input embeddings, representing important context\n",
        "        \"\"\"\n",
        "        score = tf.nn.tanh(self.W1(values) + self.W2(values))  # Compute attention scores (shape: batch_size, seq_len, units)\n",
        "        attention_weights = tf.nn.softmax(self.V(score), axis=1)  # Normalize scores to get attention weights (shape: batch_size, seq_len, 1)\n",
        "        context_vector = attention_weights * values  # Multiply weights with input embeddings (element-wise)\n",
        "        context_vector = tf.reduce_sum(context_vector, axis=1)  # Sum over time dimension (seq_len) to get context vector\n",
        "        return context_vector  # Output shape: (batch_size, embedding_dim)\n",
        "\n",
        "\n",
        "# Build model\n",
        "input_layer = Input(shape=(MAX_LEN,))\n",
        "# - shape=(MAX_LEN,): Sequence length (each input is a sequence of word indices of fixed length MAX_LEN)\n",
        "embedding_layer = Embedding(input_dim=len(tokenizer.word_index)+1, output_dim=64)(input_layer)\n",
        "attention_output = SelfAttention(64)(embedding_layer)\n",
        "output_layer = Dense(len(label_encoder.classes_), activation='softmax')(attention_output)\n",
        "\n",
        "model = Model(inputs=input_layer, outputs=output_layer)\n",
        "model.compile(optimizer='adam', loss='sparse_categorical_crossentropy', metrics=['accuracy'])\n",
        "model.summary()\n"
      ],
      "metadata": {
        "colab": {
          "base_uri": "https://localhost:8080/",
          "height": 273
        },
        "id": "M6nvns9CggTv",
        "outputId": "4bfa8f07-0a22-4928-ad7a-d083a26a5c49"
      },
      "execution_count": null,
      "outputs": [
        {
          "output_type": "display_data",
          "data": {
            "text/plain": [
              "\u001b[1mModel: \"functional_4\"\u001b[0m\n"
            ],
            "text/html": [
              "<pre style=\"white-space:pre;overflow-x:auto;line-height:normal;font-family:Menlo,'DejaVu Sans Mono',consolas,'Courier New',monospace\"><span style=\"font-weight: bold\">Model: \"functional_4\"</span>\n",
              "</pre>\n"
            ]
          },
          "metadata": {}
        },
        {
          "output_type": "display_data",
          "data": {
            "text/plain": [
              "┏━━━━━━━━━━━━━━━━━━━━━━━━━━━━━━━━━┳━━━━━━━━━━━━━━━━━━━━━━━━┳━━━━━━━━━━━━━━━┓\n",
              "┃\u001b[1m \u001b[0m\u001b[1mLayer (type)                   \u001b[0m\u001b[1m \u001b[0m┃\u001b[1m \u001b[0m\u001b[1mOutput Shape          \u001b[0m\u001b[1m \u001b[0m┃\u001b[1m \u001b[0m\u001b[1m      Param #\u001b[0m\u001b[1m \u001b[0m┃\n",
              "┡━━━━━━━━━━━━━━━━━━━━━━━━━━━━━━━━━╇━━━━━━━━━━━━━━━━━━━━━━━━╇━━━━━━━━━━━━━━━┩\n",
              "│ input_layer_6 (\u001b[38;5;33mInputLayer\u001b[0m)      │ (\u001b[38;5;45mNone\u001b[0m, \u001b[38;5;34m50\u001b[0m)             │             \u001b[38;5;34m0\u001b[0m │\n",
              "├─────────────────────────────────┼────────────────────────┼───────────────┤\n",
              "│ embedding_6 (\u001b[38;5;33mEmbedding\u001b[0m)         │ (\u001b[38;5;45mNone\u001b[0m, \u001b[38;5;34m50\u001b[0m, \u001b[38;5;34m64\u001b[0m)         │     \u001b[38;5;34m1,164,160\u001b[0m │\n",
              "├─────────────────────────────────┼────────────────────────┼───────────────┤\n",
              "│ self_attention_2                │ (\u001b[38;5;45mNone\u001b[0m, \u001b[38;5;34m64\u001b[0m)             │         \u001b[38;5;34m8,385\u001b[0m │\n",
              "│ (\u001b[38;5;33mSelfAttention\u001b[0m)                 │                        │               │\n",
              "├─────────────────────────────────┼────────────────────────┼───────────────┤\n",
              "│ dense_10 (\u001b[38;5;33mDense\u001b[0m)                │ (\u001b[38;5;45mNone\u001b[0m, \u001b[38;5;34m4\u001b[0m)              │           \u001b[38;5;34m260\u001b[0m │\n",
              "└─────────────────────────────────┴────────────────────────┴───────────────┘\n"
            ],
            "text/html": [
              "<pre style=\"white-space:pre;overflow-x:auto;line-height:normal;font-family:Menlo,'DejaVu Sans Mono',consolas,'Courier New',monospace\">┏━━━━━━━━━━━━━━━━━━━━━━━━━━━━━━━━━┳━━━━━━━━━━━━━━━━━━━━━━━━┳━━━━━━━━━━━━━━━┓\n",
              "┃<span style=\"font-weight: bold\"> Layer (type)                    </span>┃<span style=\"font-weight: bold\"> Output Shape           </span>┃<span style=\"font-weight: bold\">       Param # </span>┃\n",
              "┡━━━━━━━━━━━━━━━━━━━━━━━━━━━━━━━━━╇━━━━━━━━━━━━━━━━━━━━━━━━╇━━━━━━━━━━━━━━━┩\n",
              "│ input_layer_6 (<span style=\"color: #0087ff; text-decoration-color: #0087ff\">InputLayer</span>)      │ (<span style=\"color: #00d7ff; text-decoration-color: #00d7ff\">None</span>, <span style=\"color: #00af00; text-decoration-color: #00af00\">50</span>)             │             <span style=\"color: #00af00; text-decoration-color: #00af00\">0</span> │\n",
              "├─────────────────────────────────┼────────────────────────┼───────────────┤\n",
              "│ embedding_6 (<span style=\"color: #0087ff; text-decoration-color: #0087ff\">Embedding</span>)         │ (<span style=\"color: #00d7ff; text-decoration-color: #00d7ff\">None</span>, <span style=\"color: #00af00; text-decoration-color: #00af00\">50</span>, <span style=\"color: #00af00; text-decoration-color: #00af00\">64</span>)         │     <span style=\"color: #00af00; text-decoration-color: #00af00\">1,164,160</span> │\n",
              "├─────────────────────────────────┼────────────────────────┼───────────────┤\n",
              "│ self_attention_2                │ (<span style=\"color: #00d7ff; text-decoration-color: #00d7ff\">None</span>, <span style=\"color: #00af00; text-decoration-color: #00af00\">64</span>)             │         <span style=\"color: #00af00; text-decoration-color: #00af00\">8,385</span> │\n",
              "│ (<span style=\"color: #0087ff; text-decoration-color: #0087ff\">SelfAttention</span>)                 │                        │               │\n",
              "├─────────────────────────────────┼────────────────────────┼───────────────┤\n",
              "│ dense_10 (<span style=\"color: #0087ff; text-decoration-color: #0087ff\">Dense</span>)                │ (<span style=\"color: #00d7ff; text-decoration-color: #00d7ff\">None</span>, <span style=\"color: #00af00; text-decoration-color: #00af00\">4</span>)              │           <span style=\"color: #00af00; text-decoration-color: #00af00\">260</span> │\n",
              "└─────────────────────────────────┴────────────────────────┴───────────────┘\n",
              "</pre>\n"
            ]
          },
          "metadata": {}
        },
        {
          "output_type": "display_data",
          "data": {
            "text/plain": [
              "\u001b[1m Total params: \u001b[0m\u001b[38;5;34m1,172,805\u001b[0m (4.47 MB)\n"
            ],
            "text/html": [
              "<pre style=\"white-space:pre;overflow-x:auto;line-height:normal;font-family:Menlo,'DejaVu Sans Mono',consolas,'Courier New',monospace\"><span style=\"font-weight: bold\"> Total params: </span><span style=\"color: #00af00; text-decoration-color: #00af00\">1,172,805</span> (4.47 MB)\n",
              "</pre>\n"
            ]
          },
          "metadata": {}
        },
        {
          "output_type": "display_data",
          "data": {
            "text/plain": [
              "\u001b[1m Trainable params: \u001b[0m\u001b[38;5;34m1,172,805\u001b[0m (4.47 MB)\n"
            ],
            "text/html": [
              "<pre style=\"white-space:pre;overflow-x:auto;line-height:normal;font-family:Menlo,'DejaVu Sans Mono',consolas,'Courier New',monospace\"><span style=\"font-weight: bold\"> Trainable params: </span><span style=\"color: #00af00; text-decoration-color: #00af00\">1,172,805</span> (4.47 MB)\n",
              "</pre>\n"
            ]
          },
          "metadata": {}
        },
        {
          "output_type": "display_data",
          "data": {
            "text/plain": [
              "\u001b[1m Non-trainable params: \u001b[0m\u001b[38;5;34m0\u001b[0m (0.00 B)\n"
            ],
            "text/html": [
              "<pre style=\"white-space:pre;overflow-x:auto;line-height:normal;font-family:Menlo,'DejaVu Sans Mono',consolas,'Courier New',monospace\"><span style=\"font-weight: bold\"> Non-trainable params: </span><span style=\"color: #00af00; text-decoration-color: #00af00\">0</span> (0.00 B)\n",
              "</pre>\n"
            ]
          },
          "metadata": {}
        }
      ]
    },
    {
      "cell_type": "markdown",
      "source": [
        "### Inference Speed"
      ],
      "metadata": {
        "id": "1_k6e9Yphrw3"
      }
    },
    {
      "cell_type": "code",
      "source": [
        "import time  # Import time module to track training duration\n",
        "\n",
        "start = time.time()  # Record start time before training begins\n",
        "\n",
        "# Train the model\n",
        "history = model.fit(\n",
        "    padded,                 # Input data: padded sequences of tokenized dialogs\n",
        "    labels,                 # Target labels: integer-encoded final acts\n",
        "    epochs=5,               # Number of times to iterate over the entire dataset\n",
        "    batch_size=32           # Number of samples per gradient update\n",
        ")\n",
        "\n",
        "training_time = time.time() - start  # Calculate total training time\n",
        "\n",
        "print(f\"Training time: {training_time:.2f} seconds\")  # Display how long training took\n"
      ],
      "metadata": {
        "colab": {
          "base_uri": "https://localhost:8080/"
        },
        "id": "8o4i00gTgg0K",
        "outputId": "e2da69c8-a7c1-4846-84bd-4a08d9f1b62e"
      },
      "execution_count": null,
      "outputs": [
        {
          "output_type": "stream",
          "name": "stdout",
          "text": [
            "Epoch 1/5\n",
            "\u001b[1m348/348\u001b[0m \u001b[32m━━━━━━━━━━━━━━━━━━━━\u001b[0m\u001b[37m\u001b[0m \u001b[1m6s\u001b[0m 11ms/step - accuracy: 0.6305 - loss: 1.0446\n",
            "Epoch 2/5\n",
            "\u001b[1m348/348\u001b[0m \u001b[32m━━━━━━━━━━━━━━━━━━━━\u001b[0m\u001b[37m\u001b[0m \u001b[1m1s\u001b[0m 4ms/step - accuracy: 0.6454 - loss: 0.9486\n",
            "Epoch 3/5\n",
            "\u001b[1m348/348\u001b[0m \u001b[32m━━━━━━━━━━━━━━━━━━━━\u001b[0m\u001b[37m\u001b[0m \u001b[1m2s\u001b[0m 3ms/step - accuracy: 0.6495 - loss: 0.9202\n",
            "Epoch 4/5\n",
            "\u001b[1m348/348\u001b[0m \u001b[32m━━━━━━━━━━━━━━━━━━━━\u001b[0m\u001b[37m\u001b[0m \u001b[1m1s\u001b[0m 3ms/step - accuracy: 0.6528 - loss: 0.8670\n",
            "Epoch 5/5\n",
            "\u001b[1m348/348\u001b[0m \u001b[32m━━━━━━━━━━━━━━━━━━━━\u001b[0m\u001b[37m\u001b[0m \u001b[1m1s\u001b[0m 3ms/step - accuracy: 0.6838 - loss: 0.7718\n",
            "Training time: 12.18 seconds\n"
          ]
        }
      ]
    },
    {
      "cell_type": "code",
      "source": [
        "from tensorflow.keras.utils import to_categorical  # For converting integer labels to one-hot vectors\n",
        "\n",
        "# Prepare test data\n",
        "X_test = tokenizer.texts_to_sequences(test_df['dialog'])  # Convert test dialog text into sequences of token indices using the trained tokenizer\n",
        "X_test = pad_sequences(X_test, padding='post', maxlen=50)  # Pad or truncate sequences to fixed length (post-padding, max length 50)\n",
        "\n",
        "# Label encode the target variable (dialog acts)\n",
        "y_test_acts = test_df['act'].apply(lambda x: parse_act(x)[-1])  # Extract the last act from each dialog's act list in test set\n",
        "y_test = label_encoder.transform(y_test_acts)  # Convert string/integer labels into encoded integers using the fitted label encoder\n",
        "\n",
        "# One-hot encode the labels (only if needed for categorical loss; not needed for sparse categorical loss)\n",
        "y_test_one_hot = to_categorical(y_test, num_classes=len(label_encoder.classes_))\n",
        "# Converts integer labels to one-hot vectors; 'num_classes' ensures correct number of output classes\n",
        "\n",
        "# Make predictions using the trained model\n",
        "y_pred_proba = model.predict(X_test)  # Get predicted class probabilities for test data\n",
        "y_pred = np.argmax(y_pred_proba, axis=1)  # Select the index (class) with the highest predicted probability\n",
        "\n",
        "# Accuracy score\n",
        "from sklearn.metrics import accuracy_score  # Import accuracy evaluation function\n",
        "accuracy = accuracy_score(y_test, y_pred)  # Compare predicted labels with true labels\n",
        "print(f\"Accuracy: {accuracy:.4f}\")  # Print accuracy rounded to 4 decimal places\n"
      ],
      "metadata": {
        "colab": {
          "base_uri": "https://localhost:8080/"
        },
        "id": "rRgekxxmhwFo",
        "outputId": "19f6a7f8-477e-4de4-dc75-cb979ca6189e"
      },
      "execution_count": null,
      "outputs": [
        {
          "output_type": "stream",
          "name": "stdout",
          "text": [
            "\u001b[1m32/32\u001b[0m \u001b[32m━━━━━━━━━━━━━━━━━━━━\u001b[0m\u001b[37m\u001b[0m \u001b[1m2s\u001b[0m 38ms/step\n",
            "Accuracy: 0.5790\n"
          ]
        }
      ]
    },
    {
      "cell_type": "code",
      "source": [
        "from nltk.translate.bleu_score import sentence_bleu, SmoothingFunction  # Import BLEU score computation and smoothing from NLTK\n",
        "\n",
        "# Example: reference and candidate sentences\n",
        "references = [[\"hello\", \"how\", \"are\", \"you\"]]  # List of reference sentences (ground truth), each reference is a list of tokens\n",
        "candidates = [[\"hi\", \"how\", \"you\"]]  # List of candidate (predicted) sentences, each candidate is a list of tokens\n",
        "\n",
        "# Apply smoothing to BLEU score\n",
        "smooth_fn = SmoothingFunction().method1  # Select a smoothing method to avoid BLEU score being 0 when n-grams are missing\n",
        "\n",
        "# Compute BLEU score with smoothing\n",
        "bleu = sentence_bleu(references, candidates[0], smoothing_function=smooth_fn)\n",
        "# sentence_bleu(): computes BLEU score\n",
        "# parameters:\n",
        "#   references – list of reference translations (list of token lists)\n",
        "#   candidates[0] – candidate translation (list of tokens)\n",
        "#   smoothing_function – smoothing function to handle zero counts in short sequences\n",
        "\n",
        "print(f\"BLEU score with smoothing: {bleu:.4f}\")  # Print BLEU score rounded to 4 decimal places"
      ],
      "metadata": {
        "colab": {
          "base_uri": "https://localhost:8080/"
        },
        "id": "QsCqTPLjhyZ8",
        "outputId": "c9af7176-b22c-4a6c-bf1a-f729637dbf19"
      },
      "execution_count": null,
      "outputs": [
        {
          "output_type": "stream",
          "name": "stdout",
          "text": [
            "BLEU score with smoothing: 0.0968\n"
          ]
        }
      ]
    },
    {
      "cell_type": "code",
      "source": [
        "!pip install rouge"
      ],
      "metadata": {
        "colab": {
          "base_uri": "https://localhost:8080/"
        },
        "id": "ygL9oPdSikXV",
        "outputId": "e0191e2f-046c-44ce-86f1-ca970e0ba75c"
      },
      "execution_count": null,
      "outputs": [
        {
          "output_type": "stream",
          "name": "stdout",
          "text": [
            "Collecting rouge\n",
            "  Downloading rouge-1.0.1-py3-none-any.whl.metadata (4.1 kB)\n",
            "Requirement already satisfied: six in /usr/local/lib/python3.11/dist-packages (from rouge) (1.17.0)\n",
            "Downloading rouge-1.0.1-py3-none-any.whl (13 kB)\n",
            "Installing collected packages: rouge\n",
            "Successfully installed rouge-1.0.1\n"
          ]
        }
      ]
    },
    {
      "cell_type": "code",
      "source": [
        "from rouge import Rouge  # Import the ROUGE scoring class from the rouge package\n",
        "\n",
        "# Initialize ROUGE scorer\n",
        "rouge = Rouge()  # Create a ROUGE object to compute ROUGE-1, ROUGE-2, and ROUGE-L scores\n",
        "\n",
        "# Compute ROUGE scores\n",
        "scores = rouge.get_scores([' '.join(candidates[0])], [' '.join(references[0])])\n",
        "# .get_scores(): computes ROUGE scores between candidate and reference texts\n",
        "# Parameters:\n",
        "#   candidates[0] – predicted sentence joined as a string: e.g., ['hi', 'how', 'you'] -> \"hi how you\"\n",
        "#   references[0] – reference sentence joined as a string: e.g., ['hello', 'how', 'are', 'you'] -> \"hello how are you\"\n",
        "# Returns:\n",
        "#   A list of dictionaries containing ROUGE-1, ROUGE-2, and ROUGE-L precision, recall, and F1-score\n",
        "\n",
        "print(f\"ROUGE score: {scores[0]}\")  # Print the ROUGE scores for the first (and only) candidate-reference pair"
      ],
      "metadata": {
        "colab": {
          "base_uri": "https://localhost:8080/"
        },
        "id": "Z5eXs4NTh0lk",
        "outputId": "0c79a591-a62a-47db-dfe7-a4ba72f1284c"
      },
      "execution_count": null,
      "outputs": [
        {
          "output_type": "stream",
          "name": "stdout",
          "text": [
            "ROUGE score: {'rouge-1': {'r': 0.5, 'p': 0.6666666666666666, 'f': 0.5714285665306124}, 'rouge-2': {'r': 0.0, 'p': 0.0, 'f': 0.0}, 'rouge-l': {'r': 0.5, 'p': 0.6666666666666666, 'f': 0.5714285665306124}}\n"
          ]
        }
      ]
    },
    {
      "cell_type": "code",
      "source": [
        "import nltk  # Import the Natural Language Toolkit library (used for NLP tasks)\n",
        "nltk.download('wordnet')  # Download the WordNet lexical database (required for METEOR score synonym matching)\n",
        "\n",
        "from nltk.translate import meteor_score  # Import the METEOR scoring function from NLTK\n",
        "\n",
        "# Example: reference and candidate sentences (tokenized)\n",
        "references = [[\"hello\", \"how\", \"are\", \"you\"]]  # Reference sentence (ground truth), tokenized as a list of words\n",
        "candidates = [[\"hi\", \"how\", \"you\"]]  # Candidate sentence (model prediction), also tokenized\n",
        "\n",
        "# Compute METEOR score\n",
        "meteor = meteor_score.single_meteor_score(references[0], candidates[0])\n",
        "# Parameters:\n",
        "#   references[0] – a list of tokens from the reference sentence\n",
        "#   candidates[0] – a list of tokens from the predicted sentence\n",
        "# The function computes a METEOR score considering exact, stem, synonym, and paraphrase matches\n",
        "\n",
        "print(f\"METEOR score: {meteor:.4f}\")  # Print the computed METEOR score, rounded to 4 decimal places"
      ],
      "metadata": {
        "colab": {
          "base_uri": "https://localhost:8080/"
        },
        "id": "v9jnmA4fh6Xj",
        "outputId": "72266605-156d-40b2-8b02-ae373c6d0c2c"
      },
      "execution_count": null,
      "outputs": [
        {
          "output_type": "stream",
          "name": "stderr",
          "text": [
            "[nltk_data] Downloading package wordnet to /root/nltk_data...\n"
          ]
        },
        {
          "output_type": "stream",
          "name": "stdout",
          "text": [
            "METEOR score: 0.6553\n"
          ]
        }
      ]
    },
    {
      "cell_type": "code",
      "source": [
        "import matplotlib.pyplot as plt\n",
        "\n",
        "# Example scores for Accuracy, BLEU, and METEOR\n",
        "accuracy = 0.5790\n",
        "bleu = 0.0968\n",
        "meteor = 0.6553\n",
        "\n",
        "# Create a list of the metrics and their values\n",
        "metrics = ['Accuracy', 'BLEU', 'METEOR']\n",
        "scores = [accuracy, bleu, meteor]\n",
        "\n",
        "# Plotting the comparison graph\n",
        "plt.figure(figsize=(8, 6))\n",
        "plt.bar(metrics, scores, color=['brown', 'red', 'violet'])\n",
        "\n",
        "# Adding labels and title\n",
        "plt.xlabel('Metrics')\n",
        "plt.ylabel('Scores')\n",
        "plt.title('Comparison of Model Evaluation Metrics')\n",
        "\n",
        "# Display the plot\n",
        "plt.show()\n"
      ],
      "metadata": {
        "colab": {
          "base_uri": "https://localhost:8080/",
          "height": 564
        },
        "id": "2MP3YV5niAqI",
        "outputId": "65561993-d0fe-4ab1-918b-0a11142027be"
      },
      "execution_count": null,
      "outputs": [
        {
          "output_type": "display_data",
          "data": {
            "text/plain": [
              "<Figure size 800x600 with 1 Axes>"
            ],
            "image/png": "[encoded data removed]"
          },
          "metadata": {}
        }
      ]
    },
    {
      "cell_type": "code",
      "source": [
        "import time  # Import the time module to measure execution time\n",
        "import numpy as np  # Import numpy for numerical operations (though not used directly here)\n",
        "\n",
        "# Assume X_test is your test dataset and model is already trained\n",
        "# If the dataset is large, you can test only a small subset\n",
        "\n",
        "num_samples = 100  # Number of test samples to evaluate inference time on\n",
        "X_sample = X_test[:num_samples]  # Take the first 100 samples from test data\n",
        "\n",
        "# Warm up the model (optional but helps avoid cold-start delays for timing accuracy)\n",
        "_ = model.predict(X_sample[:1])\n",
        "# Runs a single prediction to initialize any lazy-loading operations in the model\n",
        "\n",
        "# Start timing\n",
        "start_time = time.time()  # Record the current time before prediction starts\n",
        "\n",
        "# Run inference on the selected samples\n",
        "_ = model.predict(X_sample, batch_size=1, verbose=0)\n",
        "# Predict outputs for X_sample\n",
        "# Parameters:\n",
        "#   batch_size=1 – Predict one sample at a time for accurate per-sample timing\n",
        "#   verbose=0 – Suppress output during prediction\n",
        "\n",
        "# End timing\n",
        "end_time = time.time()  # Record the current time after prediction ends\n",
        "\n",
        "# Calculate the total and average inference time\n",
        "total_time = end_time - start_time  # Total time taken for inference on num_samples\n",
        "avg_inference_time = total_time / num_samples  # Average time per individual sample\n",
        "\n",
        "# Print total and average inference time\n",
        "print(f\"Inference time for {num_samples} samples: {total_time:.4f} seconds\")\n",
        "# .4f formats the number to 4 decimal places\n",
        "\n",
        "print(f\"Average inference time per sample: {avg_inference_time:.6f} seconds\")\n",
        "# .6f formats the number to 6 decimal places for more precision"
      ],
      "metadata": {
        "colab": {
          "base_uri": "https://localhost:8080/"
        },
        "id": "cmgWtEXpjP7u",
        "outputId": "b00be5d5-3d64-4513-c96d-49d3b0e43754"
      },
      "execution_count": null,
      "outputs": [
        {
          "output_type": "stream",
          "name": "stdout",
          "text": [
            "\u001b[1m1/1\u001b[0m \u001b[32m━━━━━━━━━━━━━━━━━━━━\u001b[0m\u001b[37m\u001b[0m \u001b[1m0s\u001b[0m 419ms/step\n",
            "Inference time for 100 samples: 0.2494 seconds\n",
            "Average inference time per sample: 0.002494 seconds\n"
          ]
        }
      ]
    },
    {
      "cell_type": "markdown",
      "source": [
        "## **Analyze and Compare**"
      ],
      "metadata": {
        "id": "izW5qPTulnVF"
      }
    },
    {
      "cell_type": "code",
      "source": [
        "import plotly.graph_objects as go\n",
        "\n",
        "# Header and cell data\n",
        "header = [\n",
        "    \"Criteria\",\n",
        "    \"LSTM/GRU<br>(No Attention)\",\n",
        "    \"Attention (Bahdanau/Luong)\",\n",
        "    \"Transformer (Self-Attention)\"\n",
        "]\n",
        "\n",
        "cells = [\n",
        "    [\"Accuracy / BLEU\", \"0.3976\", \"1\", \"0.0968\"],\n",
        "    [\"ROUGE / METEOR\", \"0.8333\", \"0.9921875\", \"0.6553\"],\n",
        "    [\"Training Time\", \"43.9 seconds\", \"78.7 seconds\", \"48.34 seconds\"],\n",
        "    [\"Inference Speed\", \"5.1971 seconds\", \"0.015274 seconds/sample\", \"0.015274 seconds/sample\"],\n",
        "    [\"Model Complexity\", \"2,632,627\", \"1,172,805\", \"1,172,805\"],\n",
        "    [\"Interpretability\", \"✔ (Attention Maps)\", \"✔ (Attention Maps)\", \"✔ (Attention Heads)\"]\n",
        "]\n",
        "\n",
        "# Add <br><br> to simulate vertical spacing\n",
        "for row in cells:\n",
        "    for i in range(len(row)):\n",
        "        row[i] = f\"{row[i]}<br><br>\"\n",
        "\n",
        "# Transpose\n",
        "transposed_cells = list(map(list, zip(*cells)))\n",
        "\n",
        "# Create table with spacing\n",
        "fig = go.Figure(data=[go.Table(\n",
        "    header=dict(values=header, fill_color='paleturquoise', align='left', font=dict(size=14)),\n",
        "    cells=dict(values=transposed_cells, fill_color='lavender', align='left', font=dict(size=13), height=40)\n",
        ")])\n",
        "\n",
        "fig.update_layout(title='Comparison Table: Attention Mechanisms')\n",
        "fig.show()\n"
      ],
      "metadata": {
        "colab": {
          "base_uri": "https://localhost:8080/",
          "height": 542
        },
        "id": "LR00LlHSlEtr",
        "outputId": "aa98b3a4-140f-48bb-bdcf-9435f481b92b"
      },
      "execution_count": null,
      "outputs": [
        {
          "output_type": "display_data",
          "data": {
            "text/html": [
              "<html>\n",
              "<head><meta charset=\"utf-8\" /></head>\n",
              "<body>\n",
              "    <div>            <script src=\"https://cdnjs.cloudflare.com/ajax/libs/mathjax/2.7.5/MathJax.js?config=TeX-AMS-MML_SVG\"></script><script type=\"text/javascript\">if (window.MathJax && window.MathJax.Hub && window.MathJax.Hub.Config) {window.MathJax.Hub.Config({SVG: {font: \"STIX-Web\"}});}</script>                <script type=\"text/javascript\">window.PlotlyConfig = {MathJaxConfig: 'local'};</script>\n",
              "        <script charset=\"utf-8\" src=\"https://cdn.plot.ly/plotly-2.35.2.min.js\"></script>                <div id=\"bfa00529-6044-4de2-b68b-0abbc48deec3\" class=\"plotly-graph-div\" style=\"height:525px; width:100%;\"></div>            <script type=\"text/javascript\">                                    window.PLOTLYENV=window.PLOTLYENV || {};                                    if (document.getElementById(\"bfa00529-6044-4de2-b68b-0abbc48deec3\")) {                    Plotly.newPlot(                        \"bfa00529-6044-4de2-b68b-0abbc48deec3\",                        [{\"cells\":{\"align\":\"left\",\"fill\":{\"color\":\"lavender\"},\"font\":{\"size\":13},\"height\":40,\"values\":[[\"Accuracy \\u002f BLEU\\u003cbr\\u003e\\u003cbr\\u003e\",\"ROUGE \\u002f METEOR\\u003cbr\\u003e\\u003cbr\\u003e\",\"Training Time\\u003cbr\\u003e\\u003cbr\\u003e\",\"Inference Speed\\u003cbr\\u003e\\u003cbr\\u003e\",\"Model Complexity\\u003cbr\\u003e\\u003cbr\\u003e\",\"Interpretability\\u003cbr\\u003e\\u003cbr\\u003e\"],[\"0.3976\\u003cbr\\u003e\\u003cbr\\u003e\",\"0.8333\\u003cbr\\u003e\\u003cbr\\u003e\",\"43.9 seconds\\u003cbr\\u003e\\u003cbr\\u003e\",\"5.1971 seconds\\u003cbr\\u003e\\u003cbr\\u003e\",\"2,632,627\\u003cbr\\u003e\\u003cbr\\u003e\",\"✔ (Attention Maps)\\u003cbr\\u003e\\u003cbr\\u003e\"],[\"1\\u003cbr\\u003e\\u003cbr\\u003e\",\"0.9921875\\u003cbr\\u003e\\u003cbr\\u003e\",\"78.7 seconds\\u003cbr\\u003e\\u003cbr\\u003e\",\"0.015274 seconds\\u002fsample\\u003cbr\\u003e\\u003cbr\\u003e\",\"1,172,805\\u003cbr\\u003e\\u003cbr\\u003e\",\"✔ (Attention Maps)\\u003cbr\\u003e\\u003cbr\\u003e\"],[\"0.0968\\u003cbr\\u003e\\u003cbr\\u003e\",\"0.6553\\u003cbr\\u003e\\u003cbr\\u003e\",\"48.34 seconds\\u003cbr\\u003e\\u003cbr\\u003e\",\"0.015274 seconds\\u002fsample\\u003cbr\\u003e\\u003cbr\\u003e\",\"1,172,805\\u003cbr\\u003e\\u003cbr\\u003e\",\"✔ (Attention Heads)\\u003cbr\\u003e\\u003cbr\\u003e\"]]},\"header\":{\"align\":\"left\",\"fill\":{\"color\":\"paleturquoise\"},\"font\":{\"size\":14},\"values\":[\"Criteria\",\"LSTM\\u002fGRU\\u003cbr\\u003e(No Attention)\",\"Attention (Bahdanau\\u002fLuong)\",\"Transformer (Self-Attention)\"]},\"type\":\"table\"}],                        {\"template\":{\"data\":{\"histogram2dcontour\":[{\"type\":\"histogram2dcontour\",\"colorbar\":{\"outlinewidth\":0,\"ticks\":\"\"},\"colorscale\":[[0.0,\"#0d0887\"],[0.1111111111111111,\"#46039f\"],[0.2222222222222222,\"#7201a8\"],[0.3333333333333333,\"#9c179e\"],[0.4444444444444444,\"#bd3786\"],[0.5555555555555556,\"#d8576b\"],[0.6666666666666666,\"#ed7953\"],[0.7777777777777778,\"#fb9f3a\"],[0.8888888888888888,\"#fdca26\"],[1.0,\"#f0f921\"]]}],\"choropleth\":[{\"type\":\"choropleth\",\"colorbar\":{\"outlinewidth\":0,\"ticks\":\"\"}}],\"histogram2d\":[{\"type\":\"histogram2d\",\"colorbar\":{\"outlinewidth\":0,\"ticks\":\"\"},\"colorscale\":[[0.0,\"#0d0887\"],[0.1111111111111111,\"#46039f\"],[0.2222222222222222,\"#7201a8\"],[0.3333333333333333,\"#9c179e\"],[0.4444444444444444,\"#bd3786\"],[0.5555555555555556,\"#d8576b\"],[0.6666666666666666,\"#ed7953\"],[0.7777777777777778,\"#fb9f3a\"],[0.8888888888888888,\"#fdca26\"],[1.0,\"#f0f921\"]]}],\"heatmap\":[{\"type\":\"heatmap\",\"colorbar\":{\"outlinewidth\":0,\"ticks\":\"\"},\"colorscale\":[[0.0,\"#0d0887\"],[0.1111111111111111,\"#46039f\"],[0.2222222222222222,\"#7201a8\"],[0.3333333333333333,\"#9c179e\"],[0.4444444444444444,\"#bd3786\"],[0.5555555555555556,\"#d8576b\"],[0.6666666666666666,\"#ed7953\"],[0.7777777777777778,\"#fb9f3a\"],[0.8888888888888888,\"#fdca26\"],[1.0,\"#f0f921\"]]}],\"heatmapgl\":[{\"type\":\"heatmapgl\",\"colorbar\":{\"outlinewidth\":0,\"ticks\":\"\"},\"colorscale\":[[0.0,\"#0d0887\"],[0.1111111111111111,\"#46039f\"],[0.2222222222222222,\"#7201a8\"],[0.3333333333333333,\"#9c179e\"],[0.4444444444444444,\"#bd3786\"],[0.5555555555555556,\"#d8576b\"],[0.6666666666666666,\"#ed7953\"],[0.7777777777777778,\"#fb9f3a\"],[0.8888888888888888,\"#fdca26\"],[1.0,\"#f0f921\"]]}],\"contourcarpet\":[{\"type\":\"contourcarpet\",\"colorbar\":{\"outlinewidth\":0,\"ticks\":\"\"}}],\"contour\":[{\"type\":\"contour\",\"colorbar\":{\"outlinewidth\":0,\"ticks\":\"\"},\"colorscale\":[[0.0,\"#0d0887\"],[0.1111111111111111,\"#46039f\"],[0.2222222222222222,\"#7201a8\"],[0.3333333333333333,\"#9c179e\"],[0.4444444444444444,\"#bd3786\"],[0.5555555555555556,\"#d8576b\"],[0.6666666666666666,\"#ed7953\"],[0.7777777777777778,\"#fb9f3a\"],[0.8888888888888888,\"#fdca26\"],[1.0,\"#f0f921\"]]}],\"surface\":[{\"type\":\"surface\",\"colorbar\":{\"outlinewidth\":0,\"ticks\":\"\"},\"colorscale\":[[0.0,\"#0d0887\"],[0.1111111111111111,\"#46039f\"],[0.2222222222222222,\"#7201a8\"],[0.3333333333333333,\"#9c179e\"],[0.4444444444444444,\"#bd3786\"],[0.5555555555555556,\"#d8576b\"],[0.6666666666666666,\"#ed7953\"],[0.7777777777777778,\"#fb9f3a\"],[0.8888888888888888,\"#fdca26\"],[1.0,\"#f0f921\"]]}],\"mesh3d\":[{\"type\":\"mesh3d\",\"colorbar\":{\"outlinewidth\":0,\"ticks\":\"\"}}],\"scatter\":[{\"fillpattern\":{\"fillmode\":\"overlay\",\"size\":10,\"solidity\":0.2},\"type\":\"scatter\"}],\"parcoords\":[{\"type\":\"parcoords\",\"line\":{\"colorbar\":{\"outlinewidth\":0,\"ticks\":\"\"}}}],\"scatterpolargl\":[{\"type\":\"scatterpolargl\",\"marker\":{\"colorbar\":{\"outlinewidth\":0,\"ticks\":\"\"}}}],\"bar\":[{\"error_x\":{\"color\":\"#2a3f5f\"},\"error_y\":{\"color\":\"#2a3f5f\"},\"marker\":{\"line\":{\"color\":\"#E5ECF6\",\"width\":0.5},\"pattern\":{\"fillmode\":\"overlay\",\"size\":10,\"solidity\":0.2}},\"type\":\"bar\"}],\"scattergeo\":[{\"type\":\"scattergeo\",\"marker\":{\"colorbar\":{\"outlinewidth\":0,\"ticks\":\"\"}}}],\"scatterpolar\":[{\"type\":\"scatterpolar\",\"marker\":{\"colorbar\":{\"outlinewidth\":0,\"ticks\":\"\"}}}],\"histogram\":[{\"marker\":{\"pattern\":{\"fillmode\":\"overlay\",\"size\":10,\"solidity\":0.2}},\"type\":\"histogram\"}],\"scattergl\":[{\"type\":\"scattergl\",\"marker\":{\"colorbar\":{\"outlinewidth\":0,\"ticks\":\"\"}}}],\"scatter3d\":[{\"type\":\"scatter3d\",\"line\":{\"colorbar\":{\"outlinewidth\":0,\"ticks\":\"\"}},\"marker\":{\"colorbar\":{\"outlinewidth\":0,\"ticks\":\"\"}}}],\"scattermapbox\":[{\"type\":\"scattermapbox\",\"marker\":{\"colorbar\":{\"outlinewidth\":0,\"ticks\":\"\"}}}],\"scatterternary\":[{\"type\":\"scatterternary\",\"marker\":{\"colorbar\":{\"outlinewidth\":0,\"ticks\":\"\"}}}],\"scattercarpet\":[{\"type\":\"scattercarpet\",\"marker\":{\"colorbar\":{\"outlinewidth\":0,\"ticks\":\"\"}}}],\"carpet\":[{\"aaxis\":{\"endlinecolor\":\"#2a3f5f\",\"gridcolor\":\"white\",\"linecolor\":\"white\",\"minorgridcolor\":\"white\",\"startlinecolor\":\"#2a3f5f\"},\"baxis\":{\"endlinecolor\":\"#2a3f5f\",\"gridcolor\":\"white\",\"linecolor\":\"white\",\"minorgridcolor\":\"white\",\"startlinecolor\":\"#2a3f5f\"},\"type\":\"carpet\"}],\"table\":[{\"cells\":{\"fill\":{\"color\":\"#EBF0F8\"},\"line\":{\"color\":\"white\"}},\"header\":{\"fill\":{\"color\":\"#C8D4E3\"},\"line\":{\"color\":\"white\"}},\"type\":\"table\"}],\"barpolar\":[{\"marker\":{\"line\":{\"color\":\"#E5ECF6\",\"width\":0.5},\"pattern\":{\"fillmode\":\"overlay\",\"size\":10,\"solidity\":0.2}},\"type\":\"barpolar\"}],\"pie\":[{\"automargin\":true,\"type\":\"pie\"}]},\"layout\":{\"autotypenumbers\":\"strict\",\"colorway\":[\"#636efa\",\"#EF553B\",\"#00cc96\",\"#ab63fa\",\"#FFA15A\",\"#19d3f3\",\"#FF6692\",\"#B6E880\",\"#FF97FF\",\"#FECB52\"],\"font\":{\"color\":\"#2a3f5f\"},\"hovermode\":\"closest\",\"hoverlabel\":{\"align\":\"left\"},\"paper_bgcolor\":\"white\",\"plot_bgcolor\":\"#E5ECF6\",\"polar\":{\"bgcolor\":\"#E5ECF6\",\"angularaxis\":{\"gridcolor\":\"white\",\"linecolor\":\"white\",\"ticks\":\"\"},\"radialaxis\":{\"gridcolor\":\"white\",\"linecolor\":\"white\",\"ticks\":\"\"}},\"ternary\":{\"bgcolor\":\"#E5ECF6\",\"aaxis\":{\"gridcolor\":\"white\",\"linecolor\":\"white\",\"ticks\":\"\"},\"baxis\":{\"gridcolor\":\"white\",\"linecolor\":\"white\",\"ticks\":\"\"},\"caxis\":{\"gridcolor\":\"white\",\"linecolor\":\"white\",\"ticks\":\"\"}},\"coloraxis\":{\"colorbar\":{\"outlinewidth\":0,\"ticks\":\"\"}},\"colorscale\":{\"sequential\":[[0.0,\"#0d0887\"],[0.1111111111111111,\"#46039f\"],[0.2222222222222222,\"#7201a8\"],[0.3333333333333333,\"#9c179e\"],[0.4444444444444444,\"#bd3786\"],[0.5555555555555556,\"#d8576b\"],[0.6666666666666666,\"#ed7953\"],[0.7777777777777778,\"#fb9f3a\"],[0.8888888888888888,\"#fdca26\"],[1.0,\"#f0f921\"]],\"sequentialminus\":[[0.0,\"#0d0887\"],[0.1111111111111111,\"#46039f\"],[0.2222222222222222,\"#7201a8\"],[0.3333333333333333,\"#9c179e\"],[0.4444444444444444,\"#bd3786\"],[0.5555555555555556,\"#d8576b\"],[0.6666666666666666,\"#ed7953\"],[0.7777777777777778,\"#fb9f3a\"],[0.8888888888888888,\"#fdca26\"],[1.0,\"#f0f921\"]],\"diverging\":[[0,\"#8e0152\"],[0.1,\"#c51b7d\"],[0.2,\"#de77ae\"],[0.3,\"#f1b6da\"],[0.4,\"#fde0ef\"],[0.5,\"#f7f7f7\"],[0.6,\"#e6f5d0\"],[0.7,\"#b8e186\"],[0.8,\"#7fbc41\"],[0.9,\"#4d9221\"],[1,\"#276419\"]]},\"xaxis\":{\"gridcolor\":\"white\",\"linecolor\":\"white\",\"ticks\":\"\",\"title\":{\"standoff\":15},\"zerolinecolor\":\"white\",\"automargin\":true,\"zerolinewidth\":2},\"yaxis\":{\"gridcolor\":\"white\",\"linecolor\":\"white\",\"ticks\":\"\",\"title\":{\"standoff\":15},\"zerolinecolor\":\"white\",\"automargin\":true,\"zerolinewidth\":2},\"scene\":{\"xaxis\":{\"backgroundcolor\":\"#E5ECF6\",\"gridcolor\":\"white\",\"linecolor\":\"white\",\"showbackground\":true,\"ticks\":\"\",\"zerolinecolor\":\"white\",\"gridwidth\":2},\"yaxis\":{\"backgroundcolor\":\"#E5ECF6\",\"gridcolor\":\"white\",\"linecolor\":\"white\",\"showbackground\":true,\"ticks\":\"\",\"zerolinecolor\":\"white\",\"gridwidth\":2},\"zaxis\":{\"backgroundcolor\":\"#E5ECF6\",\"gridcolor\":\"white\",\"linecolor\":\"white\",\"showbackground\":true,\"ticks\":\"\",\"zerolinecolor\":\"white\",\"gridwidth\":2}},\"shapedefaults\":{\"line\":{\"color\":\"#2a3f5f\"}},\"annotationdefaults\":{\"arrowcolor\":\"#2a3f5f\",\"arrowhead\":0,\"arrowwidth\":1},\"geo\":{\"bgcolor\":\"white\",\"landcolor\":\"#E5ECF6\",\"subunitcolor\":\"white\",\"showland\":true,\"showlakes\":true,\"lakecolor\":\"white\"},\"title\":{\"x\":0.05},\"mapbox\":{\"style\":\"light\"}}},\"title\":{\"text\":\"Comparison Table: Attention Mechanisms\"}},                        {\"responsive\": true}                    ).then(function(){\n",
              "                            \n",
              "var gd = document.getElementById('bfa00529-6044-4de2-b68b-0abbc48deec3');\n",
              "var x = new MutationObserver(function (mutations, observer) {{\n",
              "        var display = window.getComputedStyle(gd).display;\n",
              "        if (!display || display === 'none') {{\n",
              "            console.log([gd, 'removed!']);\n",
              "            Plotly.purge(gd);\n",
              "            observer.disconnect();\n",
              "        }}\n",
              "}});\n",
              "\n",
              "// Listen for the removal of the full notebook cells\n",
              "var notebookContainer = gd.closest('#notebook-container');\n",
              "if (notebookContainer) {{\n",
              "    x.observe(notebookContainer, {childList: true});\n",
              "}}\n",
              "\n",
              "// Listen for the clearing of the current output cell\n",
              "var outputEl = gd.closest('.output');\n",
              "if (outputEl) {{\n",
              "    x.observe(outputEl, {childList: true});\n",
              "}}\n",
              "\n",
              "                        })                };                            </script>        </div>\n",
              "</body>\n",
              "</html>"
            ]
          },
          "metadata": {}
        }
      ]
    }
  ]
}